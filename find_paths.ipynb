{
 "cells": [
  {
   "cell_type": "code",
   "execution_count": 28,
   "metadata": {},
   "outputs": [],
   "source": [
    "import numpy as np\n",
    "import pandas as pd\n",
    "import glob, os\n"
   ]
  },
  {
   "cell_type": "markdown",
   "metadata": {},
   "source": [
    "# Usage\n",
    "\n",
    "Just select the correct pattern of the file/folders that you want to find and then write the output in a file for using with bash\n",
    "\n",
    "### Example\n",
    "find all the HorizonDump.h5 and output the file paths with a space in between. \n",
    "\n",
    "JoinH5 -o combined.h5 <paste_the_file_content>\n"
   ]
  },
  {
   "cell_type": "markdown",
   "metadata": {},
   "source": [
    "# Code"
   ]
  },
  {
   "cell_type": "code",
   "execution_count": 26,
   "metadata": {},
   "outputs": [],
   "source": [
    "folder_path = \"/panfs/ds09/sxs/himanshu/runs/simple_BBH_for_GH_testing/one_high_spin_zero_ecc_equal_mass\"\n",
    "\n",
    "# # With ringdowns\n",
    "# lev_golb=folder_path+\"/Ev/Lev**\"\n",
    "\n",
    "# Without ringdowns\n",
    "lev_golb=folder_path+\"/Ev/Lev?_??\"\n",
    "\n",
    "\n",
    "\n",
    "checkpoints_glob=lev_golb+\"/Run/Checkpoints/?**\"\n",
    "checkpoints_A0_glob=lev_golb+\"/Run/Checkpoints/?**/Cp-VarsGr_SphereA0**.h5\"\n",
    "\n",
    "horizon_dump_glob=lev_golb+\"/Run/ApparentHorizons/HorizonsDump.h5\"\n",
    "\n",
    "\n"
   ]
  },
  {
   "cell_type": "code",
   "execution_count": 27,
   "metadata": {},
   "outputs": [
    {
     "name": "stdout",
     "output_type": "stream",
     "text": [
      "/panfs/ds09/sxs/himanshu/runs/simple_BBH_for_GH_testing/one_high_spin_zero_ecc_equal_mass/Ev/Lev1_AA/Run/Checkpoints/6806/Cp-VarsGr_SphereA0.h5\n",
      "/panfs/ds09/sxs/himanshu/runs/simple_BBH_for_GH_testing/one_high_spin_zero_ecc_equal_mass/Ev/Lev1_AA/Run/Checkpoints/10698/Cp-VarsGr_SphereA0.h5\n",
      "/panfs/ds09/sxs/himanshu/runs/simple_BBH_for_GH_testing/one_high_spin_zero_ecc_equal_mass/Ev/Lev2_AA/Run/Checkpoints/8751/Cp-VarsGr_SphereA0.h5\n",
      "/panfs/ds09/sxs/himanshu/runs/simple_BBH_for_GH_testing/one_high_spin_zero_ecc_equal_mass/Ev/Lev2_AA/Run/Checkpoints/11653/Cp-VarsGr_SphereA0.h5\n",
      "/panfs/ds09/sxs/himanshu/runs/simple_BBH_for_GH_testing/one_high_spin_zero_ecc_equal_mass/Ev/Lev3_AA/Run/Checkpoints/6799/Cp-VarsGr_SphereA0.h5\n",
      "/panfs/ds09/sxs/himanshu/runs/simple_BBH_for_GH_testing/one_high_spin_zero_ecc_equal_mass/Ev/Lev3_AA/Run/Checkpoints/13778/Cp-VarsGr_SphereA0.h5\n",
      "/panfs/ds09/sxs/himanshu/runs/simple_BBH_for_GH_testing/one_high_spin_zero_ecc_equal_mass/Ev/Lev1_AB/Run/Checkpoints/18758/Cp-VarsGr_SphereA0.h5\n",
      "/panfs/ds09/sxs/himanshu/runs/simple_BBH_for_GH_testing/one_high_spin_zero_ecc_equal_mass/Ev/Lev2_AB/Run/Checkpoints/19262/Cp-VarsGr_SphereA0.h5\n",
      "/panfs/ds09/sxs/himanshu/runs/simple_BBH_for_GH_testing/one_high_spin_zero_ecc_equal_mass/Ev/Lev1_AC/Run/Checkpoints/21593/Cp-VarsGr_SphereA0.h5\n",
      "/panfs/ds09/sxs/himanshu/runs/simple_BBH_for_GH_testing/one_high_spin_zero_ecc_equal_mass/Ev/Lev1_AD/Run/Checkpoints/23970/Cp-VarsGr_SphereA0.h5\n",
      "/panfs/ds09/sxs/himanshu/runs/simple_BBH_for_GH_testing/one_high_spin_zero_ecc_equal_mass/Ev/Lev2_AC/Run/Checkpoints/22279/Cp-VarsGr_SphereA0.h5\n",
      "/panfs/ds09/sxs/himanshu/runs/simple_BBH_for_GH_testing/one_high_spin_zero_ecc_equal_mass/Ev/Lev1_AE/Run/Checkpoints/23986/Cp-VarsGr_SphereA0.h5\n",
      "/panfs/ds09/sxs/himanshu/runs/simple_BBH_for_GH_testing/one_high_spin_zero_ecc_equal_mass/Ev/Lev1_AE/Run/Checkpoints/24186/Cp-VarsGr_SphereA0.h5\n",
      "/panfs/ds09/sxs/himanshu/runs/simple_BBH_for_GH_testing/one_high_spin_zero_ecc_equal_mass/Ev/Lev3_AB/Run/Checkpoints/13867/Cp-VarsGr_SphereA0.h5\n",
      "/panfs/ds09/sxs/himanshu/runs/simple_BBH_for_GH_testing/one_high_spin_zero_ecc_equal_mass/Ev/Lev3_AB/Run/Checkpoints/22460/Cp-VarsGr_SphereA0.h5\n",
      "/panfs/ds09/sxs/himanshu/runs/simple_BBH_for_GH_testing/one_high_spin_zero_ecc_equal_mass/Ev/Lev1_AF/Run/Checkpoints/24188/Cp-VarsGr_SphereA0.h5\n",
      "/panfs/ds09/sxs/himanshu/runs/simple_BBH_for_GH_testing/one_high_spin_zero_ecc_equal_mass/Ev/Lev2_AD/Run/Checkpoints/22291/Cp-VarsGr_SphereA0.h5\n",
      "/panfs/ds09/sxs/himanshu/runs/simple_BBH_for_GH_testing/one_high_spin_zero_ecc_equal_mass/Ev/Lev2_AD/Run/Checkpoints/24487/Cp-VarsGr_SphereA0.h5\n",
      "/panfs/ds09/sxs/himanshu/runs/simple_BBH_for_GH_testing/one_high_spin_zero_ecc_equal_mass/Ev/Lev2_AE/Run/Checkpoints/24699/Cp-VarsGr_SphereA0.h5\n",
      "/panfs/ds09/sxs/himanshu/runs/simple_BBH_for_GH_testing/one_high_spin_zero_ecc_equal_mass/Ev/Lev2_AF/Run/Checkpoints/24709/Cp-VarsGr_SphereA0.h5\n",
      "/panfs/ds09/sxs/himanshu/runs/simple_BBH_for_GH_testing/one_high_spin_zero_ecc_equal_mass/Ev/Lev3_AC/Run/Checkpoints/25467/Cp-VarsGr_SphereA0.h5\n",
      "/panfs/ds09/sxs/himanshu/runs/simple_BBH_for_GH_testing/one_high_spin_zero_ecc_equal_mass/Ev/Lev3_AD/Run/Checkpoints/27433/Cp-VarsGr_SphereA0.h5\n",
      "/panfs/ds09/sxs/himanshu/runs/simple_BBH_for_GH_testing/one_high_spin_zero_ecc_equal_mass/Ev/Lev3_AE/Run/Checkpoints/27443/Cp-VarsGr_SphereA0.h5\n",
      "/panfs/ds09/sxs/himanshu/runs/simple_BBH_for_GH_testing/one_high_spin_zero_ecc_equal_mass/Ev/Lev3_AE/Run/Checkpoints/27648/Cp-VarsGr_SphereA0.h5\n",
      "/panfs/ds09/sxs/himanshu/runs/simple_BBH_for_GH_testing/one_high_spin_zero_ecc_equal_mass/Ev/Lev3_AF/Run/Checkpoints/27655/Cp-VarsGr_SphereA0.h5\n",
      "/panfs/ds09/sxs/himanshu/runs/simple_BBH_for_GH_testing/one_high_spin_zero_ecc_equal_mass/Ev/Lev3_AF/Run/Checkpoints/27660/Cp-VarsGr_SphereA0.h5\n"
     ]
    }
   ],
   "source": [
    "\n",
    "path_pattern = checkpoints_A0_glob\n",
    "path_collection = []\n",
    "\n",
    "\n",
    "for folder_name in glob.iglob(path_pattern, recursive=True):\n",
    "    if os.path.isdir(folder_name) or os.path.isfile(folder_name):\n",
    "        path_collection.append(folder_name)\n",
    "        print(folder_name)"
   ]
  },
  {
   "cell_type": "code",
   "execution_count": 8,
   "metadata": {},
   "outputs": [],
   "source": [
    "with open(\"./find_paths.ouput\",'w') as f:\n",
    "  for path in path_collection:\n",
    "    f.write(path+\" \")"
   ]
  },
  {
   "cell_type": "code",
   "execution_count": 60,
   "metadata": {},
   "outputs": [],
   "source": [
    "\n",
    "path_pattern = checkpoints_A0_glob\n",
    "path_collection = []\n",
    "\n",
    "def find_time(file_path):\n",
    "    \"\"\"\" Reads time from Cp-EvolutionLoopControl.txt\"\"\"\n",
    "    with open(file_path,'r') as f:\n",
    "        a = f.readline()\n",
    "        return float(a.split(\";\")[0].split(\"=\")[1])\n",
    "     \n",
    "\n",
    "\n",
    "for folder_name in glob.iglob(path_pattern, recursive=True):\n",
    "    if os.path.isdir(folder_name) or os.path.isfile(folder_name):\n",
    "        time = find_time(folder_name[:-21]+\"Cp-EvolutionLoopControl.txt\")\n",
    "        time_and_path = [time,folder_name]\n",
    "        path_collection.append(time_and_path)\n",
    "        # print(time_and_path)\n",
    "\n",
    "\n",
    "time_sorted_path_list = list(pd.DataFrame(path_collection,columns=[\"Time\",\"Path\"]).sort_values(by=['Time'])['Path'])\n",
    "time_sorted_path_list\n",
    "\n",
    "\n",
    "with open(\"./find_paths.output\",'w') as f:\n",
    "  for path in time_sorted_path_list:\n",
    "    f.write(path+\" \")"
   ]
  },
  {
   "cell_type": "code",
   "execution_count": 30,
   "metadata": {},
   "outputs": [],
   "source": [
    "file_name = \"/panfs/ds09/sxs/himanshu/runs/simple_BBH_for_GH_testing/one_high_spin_zero_ecc_equal_mass/Ev/Lev3_AA/Run/Checkpoints/13778/Cp-EvolutionLoopControl.txt\""
   ]
  },
  {
   "cell_type": "code",
   "execution_count": 49,
   "metadata": {},
   "outputs": [
    {
     "data": {
      "text/plain": [
       "'/panfs/ds09/sxs/himanshu/runs/simple_BBH_for_GH_testing/one_high_spin_zero_ecc_equal_mass/Ev/Lev3_AF/Run/Checkpoints/27660/'"
      ]
     },
     "execution_count": 49,
     "metadata": {},
     "output_type": "execute_result"
    }
   ],
   "source": [
    "\"/panfs/ds09/sxs/himanshu/runs/simple_BBH_for_GH_testing/one_high_spin_zero_ecc_equal_mass/Ev/Lev3_AF/Run/Checkpoints/27660/Cp-VarsGr_SphereA0.h5\"[:-21]"
   ]
  },
  {
   "cell_type": "code",
   "execution_count": 46,
   "metadata": {},
   "outputs": [
    {
     "data": {
      "text/plain": [
       "21"
      ]
     },
     "execution_count": 46,
     "metadata": {},
     "output_type": "execute_result"
    }
   ],
   "source": [
    "len(\"Cp-VarsGr_SphereA0.h5\")"
   ]
  },
  {
   "cell_type": "code",
   "execution_count": 38,
   "metadata": {},
   "outputs": [
    {
     "data": {
      "text/plain": [
       "344.48128012719457"
      ]
     },
     "execution_count": 38,
     "metadata": {},
     "output_type": "execute_result"
    }
   ],
   "source": [
    "float(time)"
   ]
  },
  {
   "cell_type": "code",
   "execution_count": 39,
   "metadata": {},
   "outputs": [
    {
     "data": {
      "text/plain": [
       "'   3.4448128012719457e+02'"
      ]
     },
     "execution_count": 39,
     "metadata": {},
     "output_type": "execute_result"
    }
   ],
   "source": [
    "time"
   ]
  },
  {
   "cell_type": "code",
   "execution_count": null,
   "metadata": {},
   "outputs": [],
   "source": []
  }
 ],
 "metadata": {
  "interpreter": {
   "hash": "009adc1c8ee1f76b2251d0bb13ed6e10d4fef5bd0a6f7d195d9f2892e5880fe6"
  },
  "kernelspec": {
   "display_name": "Python 3.9.7 64-bit ('sxs': conda)",
   "language": "python",
   "name": "python3"
  },
  "language_info": {
   "codemirror_mode": {
    "name": "ipython",
    "version": 3
   },
   "file_extension": ".py",
   "mimetype": "text/x-python",
   "name": "python",
   "nbconvert_exporter": "python",
   "pygments_lexer": "ipython3",
   "version": "3.9.7"
  },
  "orig_nbformat": 4
 },
 "nbformat": 4,
 "nbformat_minor": 2
}
