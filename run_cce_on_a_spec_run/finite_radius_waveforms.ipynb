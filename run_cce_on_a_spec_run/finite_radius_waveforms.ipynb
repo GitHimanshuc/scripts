{
 "cells": [
  {
   "cell_type": "code",
   "execution_count": null,
   "metadata": {},
   "outputs": [],
   "source": [
    "import scri\n",
    "import matplotlib.pyplot as plt\n",
    "from pathlib import Path\n",
    "from spherical_functions import LM_index as lm\n",
    "import numpy as np\n",
    "from copy import deepcopy\n",
    "import h5py \n",
    "import json\n",
    "import pickle\n",
    "\n",
    "plt.style.use('ggplot')\n",
    "plt.rcParams[\"figure.figsize\"] = (12,10)"
   ]
  },
  {
   "cell_type": "code",
   "execution_count": null,
   "metadata": {},
   "outputs": [],
   "source": [
    "data_files = {}\n",
    "data_files[\"Lev5_big_gaussian_Lev5\"] = Path(\"/groups/sxs/hchaudha/spec_runs/high_accuracy_L35_variations/Lev5_big_gaussian/GW_data/rh_FiniteRadii_CodeUnits/rh_FiniteRadii_CodeUnits.h5\")\n",
    "# data_files[\"Lev5_big_gaussian_constra_Lev5\"] = Path(\"/groups/sxs/hchaudha/spec_runs/high_accuracy_L35_variations/Lev5_big_gaussian_constra/GW_data/rh_FiniteRadii_CodeUnits/rh_FiniteRadii_CodeUnits.h5\")\n",
    "# data_files[\"Lev5_big_gaussian_constra_200_Lev5\"] = Path(\"/groups/sxs/hchaudha/spec_runs/high_accuracy_L35_variations/Lev5_big_gaussian_constra_200/GW_data/rh_FiniteRadii_CodeUnits/rh_FiniteRadii_CodeUnits.h5\")\n",
    "# data_files[\"Lev5_big_gaussian_ah_tol100_Lev5\"] = Path(\"/groups/sxs/hchaudha/spec_runs/high_accuracy_L35_variations/Lev5_big_gaussian_ah_tol100/GW_data/rh_FiniteRadii_CodeUnits/rh_FiniteRadii_CodeUnits.h5\")\n",
    "# data_files[\"L35_GW_data_Lev3\"] = Path(\"/groups/sxs/hchaudha/spec_runs/high_accuracy_L35/Ev/GW_data_Lev3/rh_FiniteRadii_CodeUnits/rh_FiniteRadii_CodeUnits.h5\")\n",
    "# data_files[\"L35_GW_data_Lev4\"] = Path(\"/groups/sxs/hchaudha/spec_runs/high_accuracy_L35/Ev/GW_data_Lev4/rh_FiniteRadii_CodeUnits/rh_FiniteRadii_CodeUnits.h5\")\n",
    "data_files[\"L35_GW_data_Lev5\"] = Path(\"/groups/sxs/hchaudha/spec_runs/high_accuracy_L35/Ev/GW_data_Lev5/rh_FiniteRadii_CodeUnits/rh_FiniteRadii_CodeUnits.h5\")\n",
    "# data_files[\"L35_master_GW_data_Lev3\"] = Path(\"/groups/sxs/hchaudha/spec_runs/high_accuracy_L35_master/Ev/GW_data_Lev3/rh_FiniteRadii_CodeUnits/rh_FiniteRadii_CodeUnits.h5\")\n",
    "# data_files[\"L35_master_GW_data_Lev4\"] = Path(\"/groups/sxs/hchaudha/spec_runs/high_accuracy_L35_master/Ev/GW_data_Lev4/rh_FiniteRadii_CodeUnits/rh_FiniteRadii_CodeUnits.h5\")\n",
    "data_files[\"L35_master_GW_data_Lev5\"] = Path(\"/groups/sxs/hchaudha/spec_runs/high_accuracy_L35_master/Ev/GW_data_Lev5/rh_FiniteRadii_CodeUnits/rh_FiniteRadii_CodeUnits.h5\")"
   ]
  },
  {
   "cell_type": "code",
   "execution_count": null,
   "metadata": {},
   "outputs": [],
   "source": [
    "def load_shifted_data(file_path:Path):\n",
    "  with h5py.File(file_path,'r') as hf:\n",
    "    radius_list = []\n",
    "    hf.visit(radius_list.append)\n",
    "\n",
    "  radius_set = set()\n",
    "  for radius in radius_list:\n",
    "    if 'Version' in radius:\n",
    "      continue\n",
    "    radius_set.add(radius[1:5])\n",
    "\n",
    "  data_dict = {}\n",
    "  for radius in radius_set:\n",
    "    data_dict[radius] = scri.SpEC.read_from_h5(\n",
    "                            str(file_path)+f\"/R{radius}.dir\",\n",
    "                            dataType = scri.h,\n",
    "                            frameType = scri.Inertial,\n",
    "                            r_is_scaled_out = True,\n",
    "                            m_is_scaled_out = True,\n",
    "                        )\n",
    "    # print(f\"Read {radius}\")\n",
    "\n",
    "  # Subtract the extraction time\n",
    "  for radius in radius_set:\n",
    "    data_dict[radius].t = data_dict[radius].t - float(radius)\n",
    "\n",
    "  return data_dict\n",
    "\n",
    "def extract_radii(file_path:Path):\n",
    "  with h5py.File(file_path,'r') as hf:\n",
    "    radius_list = []\n",
    "    hf.visit(radius_list.append)\n",
    "  return radius_list\n",
    "\n",
    "data_dict = {}\n",
    "for key in data_files:\n",
    "  data_dict[key] = load_shifted_data(data_files[key])\n",
    "\n"
   ]
  },
  {
   "cell_type": "code",
   "execution_count": null,
   "metadata": {},
   "outputs": [],
   "source": [
    "l, m = 8,0\n",
    "\n",
    "t_min = 1000\n",
    "t_min = 2500\n",
    "t_max = 40000\n",
    "t_max = 7500\n",
    "\n",
    "radius_to_plot = ['0257']\n",
    "\n",
    "for run in data_dict:\n",
    "  if radius_to_plot is None:\n",
    "    radius_to_plot = list(extract_radii(data_files[key]))\n",
    "    radius_to_plot.sort()\n",
    "    radius_to_plot = ['0257', '0265', '0274', '0283', '0293', '0304']\n",
    "\n",
    "  for radius in radius_to_plot:\n",
    "    data = data_dict[run][radius]\n",
    "    min_filter = data.t > t_min\n",
    "    max_filter = data.t < t_max\n",
    "    filter = max_filter&min_filter\n",
    "    plt.plot(data.t[filter],(data.data[:, lm(l,m,data.ell_min)][filter]),label=run+\"_\"+radius)\n",
    "    # plt.plot(data.t[filter],np.abs(data.data[:, lm(l,m,data.ell_min)][filter]),label=radius)\n",
    "# plt.yscale('log')\n",
    "# plt.title(data_file.parent.parent)\n",
    "plt.legend()"
   ]
  },
  {
   "cell_type": "code",
   "execution_count": null,
   "metadata": {},
   "outputs": [],
   "source": [
    "l, m = 2, 0\n",
    "\n",
    "t_min = 1000\n",
    "t_min = 2500\n",
    "t_max = 40000\n",
    "t_max = 7000\n",
    "# t_max = 7500\n",
    "\n",
    "radius_to_plot = ['0257', '0265', '0274', '0283', '0293', '0304']\n",
    "radius_to_plot = ['0304']\n",
    "\n",
    "base_radius = '0304'\n",
    "base_diff_run = \"L35_master_GW_data_Lev5\"\n",
    "# base_diff_run = \"L35_GW_data_Lev5\"\n",
    "# base_diff_run = \"Lev5_big_gaussian_constra_Lev5\"\n",
    "# base_diff_run = \"Lev5_big_gaussian_Lev5\"\n",
    "# base_diff_run = \"L35_master_GW_data_Lev3\"\n",
    "print(data_dict.keys())\n",
    "\n",
    "data_diff = data_dict[base_diff_run][base_radius]\n",
    "# print(data)\n",
    "reference_data_t = data_diff.t\n",
    "reference_data_h = data_diff.data[:, lm(l,m,data_diff.ell_min)]\n",
    "\n",
    "for run in data_dict:\n",
    "  if radius_to_plot is None:\n",
    "    radius_to_plot = list(extract_radii(data_files[key]))\n",
    "    radius_to_plot.sort()\n",
    "    radius_to_plot = ['0257', '0265', '0274', '0283', '0293', '0304']\n",
    "\n",
    "  for radius in radius_to_plot:\n",
    "\n",
    "    if radius == base_radius and base_diff_run == run:\n",
    "      continue\n",
    "\n",
    "    min_filter = reference_data_t > t_min\n",
    "    max_filter = reference_data_t < t_max\n",
    "    data_curr = data_dict[run][radius]\n",
    "    filter = max_filter&min_filter\n",
    "    data_diff = data_curr.interpolate(reference_data_t).data[:, lm(l,m,data_curr.ell_min)] - reference_data_h\n",
    "    print(np.max(data_diff))\n",
    "    # data_diff = data_curr.data[:, lm(l,m,data_curr.ell_min)]\n",
    "    # data_diff = np.abs(data_diff)\n",
    "    plt.plot(reference_data_t[filter],data_diff[filter],label=run+\"_\"+radius)\n",
    "    # plt.plot(data.t[filter],np.abs(data.data[:, lm(l,m,data.ell_min)][filter]),label=radius)\n",
    "# plt.yscale('log')\n",
    "plt.title(f\"diff_{base_diff_run}_{base_radius}\")\n",
    "plt.tight_layout()\n",
    "plt.legend()"
   ]
  },
  {
   "cell_type": "code",
   "execution_count": null,
   "metadata": {},
   "outputs": [],
   "source": [
    "radius_to_plot = list(radius_set)\n",
    "radius_to_plot.sort()\n",
    "# radius_to_plot = ['0257', '0265', '0274', '0283', '0293', '0304']\n",
    "l, m = 2, 2\n",
    "\n",
    "t_min = 1000\n",
    "t_min = 2500\n",
    "t_max = 40000\n",
    "t_max = 7500\n",
    "\n",
    "for radius in radius_to_plot:\n",
    "  if (int(radius)>300):\n",
    "    continue\n",
    "  data = data_dict[radius]\n",
    "  min_filter = data.t > t_min\n",
    "  max_filter = data.t < t_max\n",
    "  filter = max_filter&min_filter\n",
    "  plt.plot(data.t[filter],(data.data[:, lm(l,m,data.ell_min)][filter]),label=radius)\n",
    "  # plt.plot(data.t[filter],np.abs(data.data[:, lm(l,m,data.ell_min)][filter]),label=radius)\n",
    "# plt.yscale('log')\n",
    "plt.title(data_file.parent.parent)\n",
    "plt.legend()"
   ]
  },
  {
   "cell_type": "code",
   "execution_count": null,
   "metadata": {},
   "outputs": [],
   "source": [
    "data_dict['0257'].interpolate(data_dict[\"0900\"].t)"
   ]
  },
  {
   "cell_type": "code",
   "execution_count": null,
   "metadata": {},
   "outputs": [],
   "source": [
    "t_min = 100\n",
    "t_max = 500\n",
    "min_filter = h0257.t > t_min\n",
    "max_filter = h0257.t < t_max\n",
    "h0257.t[min_filter&max_filter]"
   ]
  },
  {
   "cell_type": "code",
   "execution_count": null,
   "metadata": {},
   "outputs": [],
   "source": [
    "h0257 = scri.SpEC.read_from_h5(\n",
    "      str(data)+\"/R0257.dir\",\n",
    "      dataType = scri.h,\n",
    "      frameType = scri.Inertial,\n",
    "      r_is_scaled_out = True,\n",
    "      m_is_scaled_out = True,\n",
    ")\n",
    "h0900 = scri.SpEC.read_from_h5(\n",
    "      str(data)+\"/R0900.dir\",\n",
    "      dataType = scri.h,\n",
    "      frameType = scri.Inertial,\n",
    "      r_is_scaled_out = True,\n",
    "      m_is_scaled_out = True,\n",
    ")"
   ]
  },
  {
   "cell_type": "code",
   "execution_count": null,
   "metadata": {},
   "outputs": [],
   "source": [
    "def signed_log(arr:np.ndarray):\n",
    "  negavative_indices = arr < 0.0\n",
    "  positive_indices = arr > 0.0\n",
    "  # zeros will be zeros\n",
    "  arr_logged = np.zeros_like(arr)\n",
    "  arr_logged[positive_indices] = np.log10(arr[positive_indices])\n",
    "  arr_logged[negavative_indices] = np.log10(-arr[negavative_indices])\n",
    "  return arr_logged\n"
   ]
  },
  {
   "cell_type": "code",
   "execution_count": null,
   "metadata": {},
   "outputs": [],
   "source": []
  },
  {
   "cell_type": "code",
   "execution_count": null,
   "metadata": {},
   "outputs": [],
   "source": [
    "extrapolated = scri.extrapolate(\n",
    "    InputDirectory = \"/groups/sxs/hchaudha/spec_runs/high_accuracy_L35_variations/Lev5_big_gaussian/GW_data/rh_FiniteRadii_CodeUnits\",\n",
    "    OutputDirectory = \"/groups/sxs/hchaudha/spec_runs/high_accuracy_L35_variations/Lev5_big_gaussian/GW_data/rh_FiniteRadii_CodeUnits\",\n",
    "    DataFile = \"rh_FiniteRadii_CodeUnits.h5\",\n",
    "    ChMass = 1.0, # or whatever the initial system (Christodoulou) mass is.\n",
    "    UseStupidNRARFormat = True,\n",
    "    DifferenceFiles = '',\n",
    "    PlotFormat = '',\n",
    ")"
   ]
  },
  {
   "cell_type": "code",
   "execution_count": null,
   "metadata": {},
   "outputs": [],
   "source": [
    "h_extra = extrapolated[5]\n",
    "l, m = 1, 0\n",
    "plt.plot(h_extra.t,h_extra.data[:, lm(l,m,h_extra.ell_min)])\n",
    "# plt.yscale('log')"
   ]
  },
  {
   "cell_type": "code",
   "execution_count": null,
   "metadata": {},
   "outputs": [],
   "source": [
    "l, m = 0, 0\n",
    "plt.plot(h0257.t,h0257.data[:, lm(l,m,h0257.ell_min)])\n",
    "plt.plot(h0900.t,h0900.data[:, lm(l,m,h0900.ell_min)])\n",
    "# plt.plot(h.t,h.energy_flux())"
   ]
  },
  {
   "cell_type": "code",
   "execution_count": null,
   "metadata": {},
   "outputs": [],
   "source": []
  }
 ],
 "metadata": {
  "kernelspec": {
   "display_name": "sxs",
   "language": "python",
   "name": "python3"
  },
  "language_info": {
   "codemirror_mode": {
    "name": "ipython",
    "version": 3
   },
   "file_extension": ".py",
   "mimetype": "text/x-python",
   "name": "python",
   "nbconvert_exporter": "python",
   "pygments_lexer": "ipython3",
   "version": "3.11.9"
  }
 },
 "nbformat": 4,
 "nbformat_minor": 2
}
