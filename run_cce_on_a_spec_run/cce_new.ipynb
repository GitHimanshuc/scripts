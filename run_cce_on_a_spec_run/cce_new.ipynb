{
 "cells": [
  {
   "cell_type": "code",
   "execution_count": null,
   "metadata": {},
   "outputs": [],
   "source": [
    "import scri\n",
    "import matplotlib.pyplot as plt\n",
    "from pathlib import Path\n",
    "from spherical_functions import LM_index as lm\n",
    "import json\n",
    "import h5py\n",
    "import numpy as np\n",
    "import pickle\n",
    "\n",
    "plt.style.use('ggplot')\n",
    "plt.rcParams[\"figure.figsize\"] = (12,10)"
   ]
  },
  {
   "cell_type": "markdown",
   "metadata": {},
   "source": [
    "# Multiple ABDs"
   ]
  },
  {
   "cell_type": "code",
   "execution_count": null,
   "metadata": {},
   "outputs": [],
   "source": [
    "cce_data= {}\n",
    "cce_data[\"high_accuracy_Lev0_R0257\"] = Path(\"/groups/sxs/hchaudha/spec_runs/Lev01_test/new_ode_tol/high_accuracy_L35/Ev/GW_data_lev0/BondiCceR0257/red_cce.h5\")\n",
    "cce_data[\"high_accuracy_Lev1_R0257\"] = Path(\"/groups/sxs/hchaudha/spec_runs/Lev01_test/new_ode_tol/high_accuracy_L35/Ev/GW_data_lev1/BondiCceR0257/red_cce.h5\")\n",
    "cce_data[\"high_accuracy_Lev2_R0257\"] = Path(\"/groups/sxs/hchaudha/spec_runs/Lev01_test/new_ode_tol/high_accuracy_L35/Ev/GW_data_lev2/BondiCceR0257/red_cce.h5\")\n",
    "cce_data[\"high_accuracy_Lev3_R0258\"] = Path(\"/groups/sxs/hchaudha/spec_runs/high_accuracy_L35/Ev/GW_data_lev3/BondiCceR0258/red_cce.h5\")\n",
    "cce_data[\"high_accuracy_Lev4_R0258\"] = Path(\"/groups/sxs/hchaudha/spec_runs/high_accuracy_L35/Ev/GW_data_lev4/BondiCceR0258/red_cce.h5\")\n",
    "cce_data[\"high_accuracy_Lev5_R0258\"] = Path(\"/groups/sxs/hchaudha/spec_runs/high_accuracy_L35/Ev/GW_data_lev5/BondiCceR0258/red_cce.h5\")\n",
    "# cce_data[\"master_Lev0_R0257\"] = Path(\"/groups/sxs/hchaudha/spec_runs/Lev01_test/old_ode_tol/high_accuracy_L35_master/Ev/GW_data/BondiCceR0257/red_cce.h5\")\n",
    "# cce_data[\"master_Lev1_R0257\"] = Path(\"/groups/sxs/hchaudha/spec_runs/Lev01_test/old_ode_tol/high_accuracy_L35_master/Ev/GW_data_lev1/BondiCceR0257/red_cce.h5\")\n",
    "# cce_data[\"master_Lev2_R0257\"] = Path(\"/groups/sxs/hchaudha/spec_runs/Lev01_test/old_ode_tol/high_accuracy_L35_master/Ev/GW_data_lev2/BondiCceR0257/red_cce.h5\")\n",
    "# cce_data[\"master_Lev3_R0257\"] = Path(\"/groups/sxs/hchaudha/spec_runs/high_accuracy_L35_master/Ev/GW_data_lev3/BondiCceR0257/red_cce.h5\")\n",
    "# cce_data[\"master_Lev4_R0257\"] = Path(\"/groups/sxs/hchaudha/spec_runs/high_accuracy_L35_master/Ev/GW_data_lev4/BondiCceR0257/red_cce.h5\")\n",
    "# cce_data[\"master_Lev5_R0257\"] = Path(\"/groups/sxs/hchaudha/spec_runs/high_accuracy_L35_master/Ev/GW_data_lev5/BondiCceR0257/red_cce.h5\")\n",
    "# cce_data[\"Lev5_bg_ah100_cd_01_uamr_full_R0258\"] = Path(\"/groups/sxs/hchaudha/spec_runs/high_accuracy_L35_variations/Lev5_bg_ah100_cd_01_uamr_full/GW_data/BondiCceR0258/red_cce.h5\")\n",
    "# cce_data[\"Lev5_bg_ah100_cd_01_uamr_full_R0686\"] = Path(\"/groups/sxs/hchaudha/spec_runs/high_accuracy_L35_variations/Lev5_bg_ah100_cd_01_uamr_full/GW_data/BondiCceR0686/red_cce.h5\")\n",
    "# cce_data[\"Lev5_bg_ah100_lapse_uamr_fullR0258\"] = Path(\"/groups/sxs/hchaudha/spec_runs/high_accuracy_L35_variations/Lev5_bg_ah100_lapse_uamr_full/GW_data/BondiCceR0258/red_cce.h5\")\n",
    "# cce_data[\"Lev5_bg_ah100_lapse_uamr_full_R0100\"] = Path(\"/groups/sxs/hchaudha/spec_runs/high_accuracy_L35_variations/Lev5_bg_ah100_lapse_uamr_full/GW_data/BondiCceR0100/red_cce.h5\")\n",
    "\n",
    "fail_flag=False\n",
    "for key in cce_data:\n",
    "  if not cce_data[key].exists():\n",
    "    fail_flag = True\n",
    "    print(f\"{cce_data[key]} does not exist!\")\n",
    "  if fial_flag:\n",
    "    raise Exception(\"Some paths do not exist!\")"
   ]
  },
  {
   "cell_type": "code",
   "execution_count": null,
   "metadata": {},
   "outputs": [],
   "source": [
    "t_interpolate = np.linspace(-1000,10000,num=5000)\n",
    "\n",
    "abd_data = {}\n",
    "for key in cce_data:\n",
    "  abd_data[key] = {\n",
    "    \"abd\": scri.create_abd_from_h5(\n",
    "      file_name=str(cce_data[key]),\n",
    "      file_format=\"spectrecce_v1\",\n",
    "      # ch_mass=1.0,  # Optional; helpful if known\n",
    "      t_interpolate=t_interpolate,  # Optional; for some specified values of `t_worldtube`\n",
    "      # t_0_superrest=3000,\n",
    "      # padding_time=400\n",
    "    )}\n",
    "  print(f\"{key} loaded!\")\n",
    "\n",
    "print(abd_data.keys())"
   ]
  },
  {
   "cell_type": "code",
   "execution_count": null,
   "metadata": {},
   "outputs": [],
   "source": [
    "def add_bondi_constraints(abd_data:dict):\n",
    "  for key in abd_data:\n",
    "    abd_data[key]['bondi_violation_norms'] = abd_data[key][\"abd\"].bondi_violation_norms\n",
    "    print(f\"bondi_violation_norms computed for {key}\")"
   ]
  },
  {
   "cell_type": "code",
   "execution_count": null,
   "metadata": {},
   "outputs": [],
   "source": [
    "add_bondi_constraints(abd_data)"
   ]
  },
  {
   "cell_type": "code",
   "execution_count": null,
   "metadata": {},
   "outputs": [],
   "source": [
    "bondi_norms_to_plot = [2]\n",
    "\n",
    "for key in abd_data:\n",
    "  violation_dict = abd_data[key]['bondi_violation_norms']\n",
    "\n",
    "  # colors = ['#1f77b4', '#ff7f0e', '#2ca02c', '#d62728', '#9467bd', '#8c564b']\n",
    "\n",
    "  if 5 in bondi_norms_to_plot: \n",
    "    plt.semilogy(abd_data[key][\"abd\"].t,violation_dict[5],label=f'{key}_5')\n",
    "  if 4 in bondi_norms_to_plot: \n",
    "    plt.semilogy(abd_data[key][\"abd\"].t,violation_dict[4],label=f'{key}_4')\n",
    "  if 3 in bondi_norms_to_plot: \n",
    "    plt.semilogy(abd_data[key][\"abd\"].t,violation_dict[3],label=f'{key}_3')\n",
    "  if 2 in bondi_norms_to_plot: \n",
    "    plt.semilogy(abd_data[key][\"abd\"].t,violation_dict[2],label=f'{key}_2')\n",
    "  if 1 in bondi_norms_to_plot: \n",
    "    plt.semilogy(abd_data[key][\"abd\"].t,violation_dict[1],label=f'{key}_1')\n",
    "  if 0 in bondi_norms_to_plot: \n",
    "    plt.semilogy(abd_data[key][\"abd\"].t,violation_dict[0],label=f'{key}_0')\n",
    "\n",
    "  plt.xlabel('t')\n",
    "  plt.ylabel(\"violations\")\n",
    "  plt.legend()\n",
    "  plt.tight_layout()\n",
    "  plt.savefig(Path(\"/home/hchaudha/notes/spec_accuracy/del/LevVariations\")/f\"main_violations_{bondi_norms_to_plot}.png\")"
   ]
  },
  {
   "cell_type": "code",
   "execution_count": null,
   "metadata": {},
   "outputs": [],
   "source": [
    "abd = abd_data[\"master_Lev5_R0257\"]\n",
    "# self.psi3.eth_GHP + self.sigma * self.psi4"
   ]
  },
  {
   "cell_type": "code",
   "execution_count": null,
   "metadata": {},
   "outputs": [],
   "source": [
    "(abd.sigma*abd.psi4).shape"
   ]
  },
  {
   "cell_type": "code",
   "execution_count": null,
   "metadata": {},
   "outputs": [],
   "source": [
    "abd.psi2.dot.shape"
   ]
  },
  {
   "cell_type": "markdown",
   "metadata": {},
   "source": [
    "# Rough"
   ]
  },
  {
   "cell_type": "code",
   "execution_count": null,
   "metadata": {},
   "outputs": [],
   "source": [
    "cce_data = Path(\"/groups/sxs/hchaudha/spec_runs/CCE_stuff/CceExecutables/CharacteristicExtractReduction.h5\")\n",
    "cce_data = Path(\"/groups/sxs/hchaudha/spec_runs/CCE_stuff/tests/CharacteristicExtractReduction.h5\")\n",
    "cce_data = Path(\"/groups/sxs/hchaudha/spec_runs/Lev01_test/old_ode_tol/high_accuracy_L35_master/cce_bondi/Lev0_R0257/red_Lev0_R0257_VolumeData.h5\")\n",
    "# cce_data = Path(\"/groups/sxs/hchaudha/spec_runs/high_accuracy_L35/cce_bondi/Lev3_R0258/red_Lev3_R0258_VolumeData.h5\")\n",
    "# cce_data = Path(\"/groups/sxs/hchaudha/spec_runs/high_accuracy_L35/cce_bondi/Lev4_R0258/red_Lev4_R0258_VolumeData.h5\")\n",
    "# cce_data = Path(\"/groups/sxs/hchaudha/spec_runs/high_accuracy_L35/cce_bondi/Lev5_R0258/red_Lev5_R0258_VolumeData.h5\")\n",
    "# cce_data = Path(\"/groups/sxs/hchaudha/spec_runs/high_accuracy_L35_master/cce_bondi/Lev5_R0257/red_Lev5_R0257_VolumeData.h5\")\n",
    "# cce_data = Path(\"/groups/sxs/hchaudha/spec_runs/high_accuracy_L35_variations/Lev5_bg_ah100_cd_01_uamr_full/GW_data/BondiCceR0258/red_cce.h5\")\n",
    "# cce_data = Path(\"/groups/sxs/hchaudha/spec_runs/high_accuracy_L35_variations/Lev5_bg_ah100_cd_01_uamr_full/GW_data/BondiCceR0686/red_cce.h5\")\n",
    "# cce_data = Path(\"/groups/sxs/hchaudha/spec_runs/high_accuracy_L35_variations/Lev5_bg_ah100_lapse_uamr_full/GW_data/BondiCceR0258/red_cce.h5\")\n",
    "# cce_data = Path(\"/groups/sxs/hchaudha/spec_runs/high_accuracy_L35_variations/Lev5_bg_ah100_lapse_uamr_full/GW_data/BondiCceR0100/red_cce.h5\")"
   ]
  },
  {
   "cell_type": "code",
   "execution_count": null,
   "metadata": {},
   "outputs": [],
   "source": [
    "\n",
    "abd = scri.create_abd_from_h5(\n",
    "      file_name=str(cce_data),\n",
    "      file_format=\"spectrecce_v1\",\n",
    "      # ch_mass=1.0,  # Optional; helpful if known\n",
    "      t_interpolate=np.linspace(-1000,10000,num=5000),  # Optional; for some specified values of `t_worldtube`\n",
    "      # t_0_superrest=3000,\n",
    "      # padding_time=400\n",
    "    )\n"
   ]
  },
  {
   "cell_type": "code",
   "execution_count": null,
   "metadata": {},
   "outputs": [],
   "source": [
    "h = abd.h\n",
    "l,m=2,2\n",
    "# l,m=1,1\n",
    "print(lm(l,m,h.ell_min))\n",
    "time_cut = 34500\n",
    "plt.plot(h.t[h.t<time_cut], h.data[:,  lm(l,m,h.ell_min)][h.t<time_cut])\n",
    "\n",
    "plt.show()"
   ]
  },
  {
   "cell_type": "code",
   "execution_count": null,
   "metadata": {},
   "outputs": [],
   "source": [
    "violations2 = abd.bianchi_2()\n",
    "diff_abs = (violations2[1] - violations2[0]).norm()\n",
    "diff_rel = diff_abs/(violations2[0].norm())\n",
    "h.data.shape,violations2[0].shape,diff_abs.shape,diff_rel.shape"
   ]
  },
  {
   "cell_type": "code",
   "execution_count": null,
   "metadata": {},
   "outputs": [],
   "source": [
    "plt.semilogy(abd.t,diff_abs,label=f\"diff_abs\")\n",
    "plt.semilogy(abd.t,diff_rel,label=f\"diff_rel\")\n",
    "plt.ylabel(\"bianchi2\")\n",
    "plt.xlabel(\"t\")\n",
    "plt.legend()\n",
    "plt.tight_layout()"
   ]
  },
  {
   "cell_type": "code",
   "execution_count": null,
   "metadata": {},
   "outputs": [],
   "source": [
    "save_folder = cce_data.parent/\"violations\"\n",
    "save_folder.mkdir(exist_ok=True)\n",
    "for l in range(8):\n",
    "  for m in range(-l,l+1):\n",
    "    print(l,m)\n",
    "    plt.semilogy(abd.t,diff_abs[:, lm(l,m,h.ell_min)],label=f\"l,m={l},{m}\")\n",
    "    plt.ylabel(\"bianchi2\")\n",
    "    plt.xlabel(\"t\")\n",
    "    plt.legend()\n",
    "    plt.tight_layout()\n",
    "    plt.savefig(f\"{save_folder}/l,m={l},{m}.png\")\n",
    "    plt.close()"
   ]
  },
  {
   "cell_type": "code",
   "execution_count": null,
   "metadata": {},
   "outputs": [],
   "source": [
    "save_folder = cce_data.parent/\"violations\"\n",
    "save_folder.mkdir(exist_ok=True)\n",
    "for l in range(8):\n",
    "  for m in range(-l,l+1):\n",
    "    print(l,m)\n",
    "    plt.semilogy(abd.t,diff_rel[:, lm(l,m,h.ell_min)],label=f\"l,m={l},{m}\")\n",
    "    plt.ylabel(\"bianchi2\")\n",
    "    plt.xlabel(\"t\")\n",
    "    plt.legend()\n",
    "    plt.tight_layout()\n",
    "    plt.savefig(f\"{save_folder}/rel_l,m={l},{m}.png\")\n",
    "    plt.close()"
   ]
  },
  {
   "cell_type": "code",
   "execution_count": null,
   "metadata": {},
   "outputs": [],
   "source": [
    "norms = np.linalg.norm(diff, axis=1)"
   ]
  },
  {
   "cell_type": "code",
   "execution_count": null,
   "metadata": {},
   "outputs": [],
   "source": [
    "plt.semilogy(abd.t,norms)"
   ]
  },
  {
   "cell_type": "code",
   "execution_count": null,
   "metadata": {},
   "outputs": [],
   "source": [
    "violations = abd.bondi_violation_norms"
   ]
  },
  {
   "cell_type": "code",
   "execution_count": null,
   "metadata": {},
   "outputs": [],
   "source": [
    "violation_dict = {\n",
    "  't': abd.t,\n",
    "  '0': violations[0],\n",
    "  '1': violations[1],\n",
    "  '2': violations[2],\n",
    "  '3': violations[3],\n",
    "  '4': violations[4],\n",
    "  '5': violations[5]\n",
    "}\n",
    "\n",
    "# with open(cce_data.parent/\"violation_dict.pkl\",'wb') as f:\n",
    "#   pickle.dump(violation_dict,f)"
   ]
  },
  {
   "cell_type": "code",
   "execution_count": null,
   "metadata": {},
   "outputs": [],
   "source": [
    "\n",
    "colors = ['#1f77b4', '#ff7f0e', '#2ca02c', '#d62728', '#9467bd', '#8c564b']\n",
    "plt.semilogy(violation_dict['t'],violation_dict['5'],linestyle='--',label='5',color=colors[5])\n",
    "plt.semilogy(violation_dict['t'],violation_dict['4'],linestyle='--',label='4',color=colors[4])\n",
    "plt.semilogy(violation_dict['t'],violation_dict['3'],linestyle='--',label='3',color=colors[3])\n",
    "plt.semilogy(violation_dict['t'],violation_dict['2'],linestyle='--',label='2',color=colors[2])\n",
    "plt.semilogy(violation_dict['t'],violation_dict['1'],linestyle='--',label='1',color=colors[1])\n",
    "plt.semilogy(violation_dict['t'],violation_dict['0'],linestyle='--',label='0',color=colors[0])\n",
    "\n",
    "plt.xlabel('t')\n",
    "plt.ylabel(\"violations\")\n",
    "plt.legend()\n",
    "plt.tight_layout()\n",
    "plt.savefig(cce_data.parent/\"violations.png\")"
   ]
  },
  {
   "cell_type": "code",
   "execution_count": null,
   "metadata": {},
   "outputs": [],
   "source": [
    "violations[2]"
   ]
  },
  {
   "cell_type": "code",
   "execution_count": null,
   "metadata": {},
   "outputs": [],
   "source": [
    "violation_dict = {\n",
    "  't': abd.t,\n",
    "  '0': violations[0],\n",
    "  '1': violations[1],\n",
    "  '2': violations[2],\n",
    "  '3': violations[3],\n",
    "  '4': violations[4],\n",
    "  '5': violations[5]\n",
    "}\n",
    "\n",
    "violation_dict2 = data['Lev5']['0258']"
   ]
  },
  {
   "cell_type": "code",
   "execution_count": null,
   "metadata": {},
   "outputs": [],
   "source": [
    "\n",
    "minT = violation_dict['t'].min()\n",
    "maxT = violation_dict['t'].max()\n",
    "print(f\"{minT=}, {maxT=}\")\n",
    "mask = (violation_dict2['t'] < maxT) & (violation_dict2['t']  > minT)\n",
    "# maxT = 200\n",
    "colors = ['#1f77b4', '#ff7f0e', '#2ca02c', '#d62728', '#9467bd', '#8c564b']\n",
    "plt.semilogy(violation_dict2['t'][mask],violation_dict2['5'][mask],label='5', color=colors[5])\n",
    "plt.semilogy(violation_dict2['t'][mask],violation_dict2['4'][mask],label='4', color=colors[4])\n",
    "plt.semilogy(violation_dict2['t'][mask],violation_dict2['3'][mask],label='3', color=colors[3])\n",
    "plt.semilogy(violation_dict2['t'][mask],violation_dict2['2'][mask],label='2', color=colors[2])\n",
    "plt.semilogy(violation_dict2['t'][mask],violation_dict2['1'][mask],label='1', color=colors[1])\n",
    "plt.semilogy(violation_dict2['t'][mask],violation_dict2['0'][mask],label='0', color=colors[0])\n",
    "\n",
    "plt.semilogy(violation_dict['t'],violation_dict['5'],linestyle='--',label='2200_5',color=colors[5])\n",
    "plt.semilogy(violation_dict['t'],violation_dict['4'],linestyle='--',label='2200_4',color=colors[4])\n",
    "plt.semilogy(violation_dict['t'],violation_dict['3'],linestyle='--',label='2200_3',color=colors[3])\n",
    "plt.semilogy(violation_dict['t'],violation_dict['2'],linestyle='--',label='2200_2',color=colors[2])\n",
    "plt.semilogy(violation_dict['t'],violation_dict['1'],linestyle='--',label='2200_1',color=colors[1])\n",
    "plt.semilogy(violation_dict['t'],violation_dict['0'],linestyle='--',label='2200_0',color=colors[0])\n",
    "\n",
    "plt.xlabel('t')\n",
    "plt.ylabel(\"violations\")\n",
    "plt.legend()"
   ]
  },
  {
   "cell_type": "code",
   "execution_count": null,
   "metadata": {},
   "outputs": [],
   "source": [
    "\n",
    "minT = violation_dict2['t'].min()\n",
    "maxT = violation_dict2['t'].max()\n",
    "print(f\"{minT=}, {maxT=}\")\n",
    "mask = (violation_dict2['t'] < maxT) & (violation_dict2['t']  > minT)\n",
    "# maxT = 200\n",
    "colors = ['#1f77b4', '#ff7f0e', '#2ca02c', '#d62728', '#9467bd', '#8c564b']\n",
    "plt.semilogy(violation_dict2['t'][mask],violation_dict2['5'][mask],label='5', color=colors[5])\n",
    "plt.semilogy(violation_dict2['t'][mask],violation_dict2['4'][mask],label='4', color=colors[4])\n",
    "plt.semilogy(violation_dict2['t'][mask],violation_dict2['3'][mask],label='3', color=colors[3])\n",
    "plt.semilogy(violation_dict2['t'][mask],violation_dict2['2'][mask],label='2', color=colors[2])\n",
    "plt.semilogy(violation_dict2['t'][mask],violation_dict2['1'][mask],label='1', color=colors[1])\n",
    "plt.semilogy(violation_dict2['t'][mask],violation_dict2['0'][mask],label='0', color=colors[0])\n",
    "\n",
    "plt.xlabel('t')\n",
    "plt.ylabel(\"violations\")\n",
    "plt.legend()"
   ]
  },
  {
   "cell_type": "code",
   "execution_count": null,
   "metadata": {},
   "outputs": [],
   "source": [
    "main_folder = Path(\"/groups/sxs/hchaudha/spec_runs/high_accuracy_L35/cce_bondi\")"
   ]
  },
  {
   "cell_type": "code",
   "execution_count": null,
   "metadata": {},
   "outputs": [],
   "source": [
    "bondi_violations_dicts = list(main_folder.glob(\"*Lev*/bondi*\"))\n",
    "bondi_violations_dicts = list(main_folder.glob(\"Lev5_R0258/bondi*\"))"
   ]
  },
  {
   "cell_type": "code",
   "execution_count": null,
   "metadata": {},
   "outputs": [],
   "source": [
    "bondi_violations_dicts.sort()\n",
    "bondi_violations_dicts"
   ]
  },
  {
   "cell_type": "code",
   "execution_count": null,
   "metadata": {},
   "outputs": [],
   "source": [
    "import pickle\n",
    "\n",
    "data = {\n",
    "  \"Lev3\":{},\n",
    "  \"Lev4\":{},\n",
    "  \"Lev5\":{},\n",
    "  \"Lev5_old\":{}\n",
    "}\n",
    "for file in bondi_violations_dicts:\n",
    "  with file.open('rb') as f:\n",
    "    lev = str(file).split(\"/\")[-2][3]\n",
    "    radius = str(file).split(\"/\")[-2][-4:]\n",
    "    if radius == \"_old\":\n",
    "      lev = lev+\"_old\"\n",
    "      radius = str(file).split(\"/\")[-2][-8:-4]\n",
    "    print(lev,radius)\n",
    "    data[\"Lev\"+lev][radius] = pickle.load(f)\n"
   ]
  },
  {
   "cell_type": "code",
   "execution_count": null,
   "metadata": {},
   "outputs": [],
   "source": [
    "levs = data.keys()\n",
    "\n",
    "\n",
    "bondi_violation = '2'\n",
    "minT = 220\n",
    "maxT = 7200\n",
    "# maxT = 200\n",
    "RADISU = 200\n",
    "\n",
    "for lev in levs:\n",
    "  # if lev!='Lev5':\n",
    "  #   continue\n",
    "  for radius in data[lev].keys():\n",
    "    # if int(radius) != RADISU:\n",
    "    #   continue\n",
    "    if int(radius) < 150:\n",
    "      continue\n",
    "    # print(radius)\n",
    "\n",
    "    t = data[lev][radius]['t']\n",
    "    y = data[lev][radius][bondi_violation]\n",
    "\n",
    "    mask = (t < maxT) & (t > minT)\n",
    "    if lev == \"Lev3\":\n",
    "      # plt.plot(t[mask],y[mask],label=f\"{lev}_{radius}\",linestyle='-')\n",
    "      plt.semilogy(t[mask],y[mask],label=f\"{lev}_{radius}\",linestyle='-')\n",
    "    elif lev == 'Lev4':\n",
    "      # plt.plot(t[mask],y[mask],label=f\"{lev}_{radius}\",linestyle='--')\n",
    "      plt.semilogy(t[mask],y[mask],label=f\"{lev}_{radius}\",linestyle='--')\n",
    "    elif lev == 'Lev5':\n",
    "      # plt.plot(t[mask],y[mask],label=f\"{lev}_{radius}\",linestyle='--')\n",
    "      plt.semilogy(t[mask],y[mask],label=f\"{lev}_{radius}\",linestyle='--')\n",
    "    else:\n",
    "      # plt.plot(t[mask],y[mask],label=f\"{lev}_{radius}\",linestyle='-.')\n",
    "      plt.semilogy(t[mask],y[mask],label=f\"{lev}_{radius}\",linestyle='-.')\n",
    "\n",
    "\n",
    "  plt.xlabel('t')\n",
    "  # plt.ylabel(bondi_violation)\n",
    "  plt.title(f\"Bondi Violation {bondi_violation}\")\n",
    "  plt.legend()\n",
    "  plt.savefig(f\"./{lev}.png\")\n",
    "  plt.close()\n",
    "\n",
    "for radius in data['Lev5'].keys():\n",
    "  for lev in levs:\n",
    "    # if 'Lev5' not in lev:\n",
    "    #   continue\n",
    "\n",
    "    t = data[lev][radius]['t']\n",
    "    y = data[lev][radius][bondi_violation]\n",
    "\n",
    "    mask = (t < maxT) & (t > minT)\n",
    "    if lev == \"Lev3\":\n",
    "      # plt.plot(t[mask],y[mask],label=f\"{lev}_{radius}\",linestyle='-')\n",
    "      plt.semilogy(t[mask],y[mask],label=f\"{lev}_{radius}\",linestyle='-')\n",
    "    elif lev == 'Lev4':\n",
    "      # plt.plot(t[mask],y[mask],label=f\"{lev}_{radius}\",linestyle='--')\n",
    "      plt.semilogy(t[mask],y[mask],label=f\"{lev}_{radius}\",linestyle='--')\n",
    "    elif lev == 'Lev5':\n",
    "      # plt.plot(t[mask],y[mask],label=f\"{lev}_{radius}\",linestyle='--')\n",
    "      plt.semilogy(t[mask],y[mask],label=f\"{lev}_{radius}\",linestyle='--')\n",
    "    else:\n",
    "      # plt.plot(t[mask],y[mask],label=f\"{lev}_{radius}\",linestyle='-.')\n",
    "      plt.semilogy(t[mask],y[mask],label=f\"{lev}_{radius}\",linestyle='-.')\n",
    "\n",
    "\n",
    "  plt.xlabel('t')\n",
    "  # plt.ylabel(bondi_violation)\n",
    "  plt.title(f\"Bondi Violation {bondi_violation}\")\n",
    "  plt.legend()\n",
    "  plt.tight_layout()\n",
    "  plt.savefig(f\"./{radius}.png\")\n",
    "  plt.close()"
   ]
  },
  {
   "cell_type": "code",
   "execution_count": null,
   "metadata": {},
   "outputs": [],
   "source": [
    "levs = data.keys()\n",
    "\n",
    "\n",
    "bondi_violation = '2'\n",
    "minT = 2150\n",
    "maxT = 7500\n",
    "RADISU = 900\n",
    "\n",
    "for lev in levs:\n",
    "  # if lev!='Lev5':\n",
    "  #   continue\n",
    "  for radius in data[lev].keys():\n",
    "    # if int(radius) != RADISU:\n",
    "    #   continue\n",
    "    if int(radius) < 150:\n",
    "      continue\n",
    "    # print(radius)\n",
    "\n",
    "    t = data[lev][radius]['t']\n",
    "    y = data[lev][radius][bondi_violation]\n",
    "\n",
    "    mask = (t < maxT) & (t > minT)\n",
    "    if lev == \"Lev3\":\n",
    "      plt.plot(t[mask],y[mask],label=f\"{lev}_{radius}\",linestyle='-')\n",
    "      # plt.semilogy(t[mask],y[mask],label=f\"{lev}_{radius}\",linestyle='-')\n",
    "    elif lev == 'Lev4':\n",
    "      plt.plot(t[mask],y[mask],label=f\"{lev}_{radius}\",linestyle='--')\n",
    "      # plt.semilogy(t[mask],y[mask],label=f\"{lev}_{radius}\",linestyle='--')\n",
    "    else:\n",
    "      plt.plot(t[mask],y[mask],label=f\"{lev}_{radius}\",linestyle='-.')\n",
    "      # plt.semilogy(t[mask],y[mask],label=f\"{lev}_{radius}\",linestyle='-.')\n",
    "\n",
    "\n",
    "  plt.xlabel('t')\n",
    "  # plt.ylabel(bondi_violation)\n",
    "  plt.title(f\"Bondi Violation {bondi_violation}\")\n",
    "  plt.legend()\n",
    "  plt.savefig(f\"./{lev}.png\")\n",
    "  plt.close()\n",
    "\n",
    "for radius in data['Lev5'].keys():\n",
    "  for lev in levs:\n",
    "  # if lev!='Lev5':\n",
    "  #   continue\n",
    "\n",
    "    t = data[lev][radius]['t']\n",
    "    y = data[lev][radius][bondi_violation]\n",
    "\n",
    "    mask = (t < maxT) & (t > minT)\n",
    "    if lev == \"Lev3\":\n",
    "      plt.plot(t[mask],y[mask],label=f\"{lev}_{radius}\",linestyle='-')\n",
    "      # plt.semilogy(t[mask],y[mask],label=f\"{lev}_{radius}\",linestyle='-')\n",
    "    elif lev == 'Lev4':\n",
    "      plt.plot(t[mask],y[mask],label=f\"{lev}_{radius}\",linestyle='--')\n",
    "      # plt.semilogy(t[mask],y[mask],label=f\"{lev}_{radius}\",linestyle='--')\n",
    "    else:\n",
    "      plt.plot(t[mask],y[mask],label=f\"{lev}_{radius}\",linestyle='-.')\n",
    "      # plt.semilogy(t[mask],y[mask],label=f\"{lev}_{radius}\",linestyle='-.')\n",
    "\n",
    "\n",
    "  plt.xlabel('t')\n",
    "  # plt.ylabel(bondi_violation)\n",
    "  plt.title(f\"Bondi Violation {bondi_violation}\")\n",
    "  plt.legend()\n",
    "  plt.tight_layout()\n",
    "  plt.savefig(f\"./{int(radius)}.png\")\n",
    "  plt.close()"
   ]
  },
  {
   "cell_type": "code",
   "execution_count": null,
   "metadata": {},
   "outputs": [],
   "source": [
    "main_folder = Path(\"/groups/sxs/hchaudha/spec_runs/high_accuracy_L35/cce_bondi/Lev5_variations\")"
   ]
  },
  {
   "cell_type": "code",
   "execution_count": null,
   "metadata": {},
   "outputs": [],
   "source": [
    "bondi_violations_dicts = list(main_folder.glob(\"*/bondi*\"))\n",
    "bondi_violations_dicts"
   ]
  },
  {
   "cell_type": "code",
   "execution_count": null,
   "metadata": {},
   "outputs": [],
   "source": [
    "bondi_violations_dicts[0].parent.stem"
   ]
  },
  {
   "cell_type": "code",
   "execution_count": null,
   "metadata": {},
   "outputs": [],
   "source": [
    "import pickle\n",
    "\n",
    "data = {}\n",
    "for file in bondi_violations_dicts:\n",
    "  with file.open('rb') as f:\n",
    "    data[file.parent.stem] = pickle.load(f)"
   ]
  },
  {
   "cell_type": "code",
   "execution_count": null,
   "metadata": {},
   "outputs": [],
   "source": [
    "\n",
    "bondi_violation = '2'\n",
    "minT = 215\n",
    "maxT = 7500\n",
    "RADISU = 900\n",
    "\n",
    "for key in data.keys():\n",
    "  if \"test\" in key:\n",
    "    continue\n",
    "  t = data[key]['t']\n",
    "  y = data[key][bondi_violation]\n",
    "\n",
    "  mask = (t < maxT) & (t > minT)\n",
    "  # plt.plot(t[mask],y[mask],label=f\"{key}\",linestyle='-.')\n",
    "  plt.semilogy(t[mask],y[mask],label=f\"{key}\",linestyle='-.')\n",
    "\n",
    "\n",
    "plt.xlabel('t')\n",
    "# plt.ylabel(bondi_violation)\n",
    "plt.title(f\"Bondi Violation {bondi_violation}\")\n",
    "plt.tight_layout()\n",
    "plt.legend()\n",
    "plt.savefig(f\"./variations.png\")\n",
    "plt.close()"
   ]
  },
  {
   "cell_type": "markdown",
   "metadata": {},
   "source": [
    "# Compute and save bondi violations"
   ]
  },
  {
   "cell_type": "code",
   "execution_count": null,
   "metadata": {},
   "outputs": [],
   "source": [
    "cce_data_folder = Path(\"/groups/sxs/hchaudha/spec_runs/high_accuracy_L35_variations/Lev5_big_gaussian/GW_data/\")\n",
    "\n",
    "cce_data_paths = list(cce_data_folder.glob(f\"**/red_cce.h5\"))\n",
    "for cce_data in cce_data_paths:\n",
    "  abd = scri.create_abd_from_h5(\n",
    "        file_name=str(cce_data),\n",
    "        file_format=\"spectrecce_v1\",\n",
    "        # ch_mass=1.0,  # Optional; helpful if known\n",
    "        # t_interpolate=t_worldtube,  # Optional; for some specified values of `t_worldtube`\n",
    "        # t_0_superrest=3000,\n",
    "        # padding_time=400\n",
    "      )\n",
    "\n",
    "  violations = abd.bondi_violation_norms\n",
    "  violation_dict = {\n",
    "  't': abd.t,\n",
    "  '0': violations[0],\n",
    "  '1': violations[1],\n",
    "  '2': violations[2],\n",
    "  '3': violations[3],\n",
    "  '4': violations[4],\n",
    "  '5': violations[5]\n",
    "  }\n",
    "\n",
    "  with open(cce_data.parent/\"violation_dict.pkl\",'wb') as f:\n",
    "    pickle.dump(violation_dict,f)\n",
    "\n",
    "\n",
    "  colors = ['#1f77b4', '#ff7f0e', '#2ca02c', '#d62728', '#9467bd', '#8c564b']\n",
    "  plt.semilogy(violation_dict['t'],violation_dict['5'],linestyle='--',label='2200_5',color=colors[5])\n",
    "  plt.semilogy(violation_dict['t'],violation_dict['4'],linestyle='--',label='2200_4',color=colors[4])\n",
    "  plt.semilogy(violation_dict['t'],violation_dict['3'],linestyle='--',label='2200_3',color=colors[3])\n",
    "  plt.semilogy(violation_dict['t'],violation_dict['2'],linestyle='--',label='2200_2',color=colors[2])\n",
    "  plt.semilogy(violation_dict['t'],violation_dict['1'],linestyle='--',label='2200_1',color=colors[1])\n",
    "  plt.semilogy(violation_dict['t'],violation_dict['0'],linestyle='--',label='2200_0',color=colors[0])\n",
    "\n",
    "  plt.xlabel('t')\n",
    "  plt.ylabel(\"violations\")\n",
    "  plt.legend()\n",
    "  plt.tight_layout()\n",
    "  plt.savefig(cce_data.parent/\"violations.png\")\n",
    "  plt.close()"
   ]
  },
  {
   "cell_type": "code",
   "execution_count": null,
   "metadata": {},
   "outputs": [],
   "source": [
    "plt.show()"
   ]
  },
  {
   "cell_type": "code",
   "execution_count": null,
   "metadata": {},
   "outputs": [],
   "source": []
  },
  {
   "cell_type": "code",
   "execution_count": null,
   "metadata": {},
   "outputs": [],
   "source": []
  },
  {
   "cell_type": "markdown",
   "metadata": {},
   "source": [
    "# Rough"
   ]
  },
  {
   "cell_type": "code",
   "execution_count": null,
   "metadata": {},
   "outputs": [],
   "source": [
    "def extract_radii(h5_file_path:Path):\n",
    "  radii = set()\n",
    "  with h5py.File(h5_file_path,'r') as f:\n",
    "    names = []\n",
    "    f.visit(names.append)\n",
    "  for name in names:\n",
    "    if \"Version\" in name:\n",
    "      continue\n",
    "    radii.add(name[1:5])\n",
    "  radii = list(radii)\n",
    "  radii.sort()\n",
    "  return radii"
   ]
  },
  {
   "cell_type": "code",
   "execution_count": null,
   "metadata": {},
   "outputs": [],
   "source": [
    "GW_data_path= {}\n",
    "# GW_data_path[\"master_Lev0\"] = Path(\"/groups/sxs/hchaudha/spec_runs/Lev01_test/old_ode_tol/high_accuracy_L35_master/Ev/GW_data\")\n",
    "# GW_data_path[\"master_Lev1\"] = Path(\"/groups/sxs/hchaudha/spec_runs/Lev01_test/old_ode_tol/high_accuracy_L35_master/Ev/GW_data_lev1\")\n",
    "# GW_data_path[\"master_Lev2\"] = Path(\"/groups/sxs/hchaudha/spec_runs/Lev01_test/old_ode_tol/high_accuracy_L35_master/Ev/GW_data_lev2\")\n",
    "# GW_data_path[\"master_Lev3\"] = Path(\"/groups/sxs/hchaudha/spec_runs/high_accuracy_L35_master/Ev/GW_data_lev3\")\n",
    "# GW_data_path[\"master_Lev4\"] = Path(\"/groups/sxs/hchaudha/spec_runs/high_accuracy_L35_master/Ev/GW_data_lev4\")\n",
    "# GW_data_path[\"master_Lev5\"] = Path(\"/groups/sxs/hchaudha/spec_runs/high_accuracy_L35_master/Ev/GW_data_lev5\")\n",
    "\n",
    "# GW_data_path[\"high_accuracy_Lev0\"] = Path(\"/groups/sxs/hchaudha/spec_runs/Lev01_test/new_ode_tol/high_accuracy_L35/Ev/GW_data_lev0\")\n",
    "# GW_data_path[\"high_accuracy_Lev1\"] = Path(\"/groups/sxs/hchaudha/spec_runs/Lev01_test/new_ode_tol/high_accuracy_L35/Ev/GW_data_lev1\")\n",
    "# GW_data_path[\"high_accuracy_Lev2\"] = Path(\"/groups/sxs/hchaudha/spec_runs/Lev01_test/new_ode_tol/high_accuracy_L35/Ev/GW_data_lev2\")\n",
    "GW_data_path[\"high_accuracy_Lev3\"] = Path(\"/groups/sxs/hchaudha/spec_runs/high_accuracy_L35/Ev/GW_data_lev3\")\n",
    "GW_data_path[\"high_accuracy_Lev4\"] = Path(\"/groups/sxs/hchaudha/spec_runs/high_accuracy_L35/Ev/GW_data_lev4\")\n",
    "GW_data_path[\"high_accuracy_Lev5\"] = Path(\"/groups/sxs/hchaudha/spec_runs/high_accuracy_L35/Ev/GW_data_lev5\")\n",
    "\n",
    "file = \"rh_FiniteRadii_CodeUnits/rh_FiniteRadii_CodeUnits.h5\"\n",
    "\n",
    "for key in GW_data_path:\n",
    "  GW_data_path[key] = GW_data_path[key]/file\n",
    "  if not GW_data_path[key].exists():\n",
    "    raise Exception(f\"{GW_data_path[key]} does not exists!\")\n",
    "radii_list = extract_radii(list(GW_data_path.values())[0])\n",
    "print(radii_list)"
   ]
  },
  {
   "cell_type": "code",
   "execution_count": null,
   "metadata": {},
   "outputs": [],
   "source": [
    "radius = radii_list[15]\n",
    "GW_data = {}\n",
    "for key in GW_data_path:\n",
    "  GW_data[key] = scri.SpEC.read_from_h5(\n",
    "      f\"{GW_data_path[key]}/R{radius}.dir\",\n",
    "      dataType = scri.h,\n",
    "      frameType = scri.Inertial,\n",
    "      r_is_scaled_out = True,\n",
    "      m_is_scaled_out = True,\n",
    "      )\n",
    "  print(f\"{key} loaded!\")\n",
    "\n",
    "print(GW_data.keys())"
   ]
  },
  {
   "cell_type": "code",
   "execution_count": null,
   "metadata": {},
   "outputs": [],
   "source": [
    "\n",
    "l, m = 2, 2\n",
    "t_interpolate = np.linspace(1200+int(radius),8000+int(radius),num=5000)\n",
    "\n",
    "base_key = 'master_Lev5'\n",
    "# base_key = 'master_Lev2'\n",
    "base_key = 'high_accuracy_Lev5'\n",
    "base_h = GW_data[base_key].interpolate(t_interpolate)\n",
    "\n",
    "def np_abs_func(x):\n",
    "  return np.abs(np.real(x))\n",
    "  # return np.abs(x)\n",
    "\n",
    "for key in GW_data:\n",
    "  if key == base_key:\n",
    "    continue\n",
    "  h = GW_data[key].interpolate(t_interpolate)\n",
    "  shited_time = h.t - int(radius)\n",
    "  diff = h.data[:, lm(l,m,h.ell_min)] - base_h.data[:, lm(l,m,h.ell_min)]\n",
    "  diff = np_abs_func(diff)\n",
    "  diff_normalize = diff/np_abs_func(base_h.data[:, lm(l,m,h.ell_min)])\n",
    "  plt.plot(shited_time,diff,label=f'{key}_{l=}_{m=}')\n",
    "  # plt.plot(shited_time,diff_normalize,label=f'{key}_rel_{l=}_{m=}')\n",
    "  # plt.plot(shited_time,base_h.data[:, lm(l,m,h.ell_min)],label=f'{key}_rel2_{l=}_{m=}')\n",
    "  # plt.plot(shited_time,np_abs_func(base_h.data[:, lm(l,m,h.ell_min)]),label=f'{key}_rel2_{l=}_{m=}')\n",
    "  # plt.semilogy(h.t,h.energy_flux(),label=f'{key}')\n",
    "\n",
    "plt.title(f\"diff:{base_key}  {l=},{m=}, {radius=}\")\n",
    "plt.xlabel('t')\n",
    "plt.ylabel(\"diff\")\n",
    "plt.yscale('log')\n",
    "plt.legend()\n",
    "plt.tight_layout()\n",
    "# plt.savefig(Path(\"/home/hchaudha/notes/spec_accuracy/del/LevVariations\")/f\"main_violations_{bondi_norms_to_plot}.png\")"
   ]
  },
  {
   "cell_type": "code",
   "execution_count": null,
   "metadata": {},
   "outputs": [],
   "source": [
    "path = Path(\"/groups/sxs/hchaudha/spec_runs/Lev01_test/new_ode_tol/high_accuracy_L35/Ev/GW_data_lev2/rh_FiniteRadii_CodeUnits/rh_FiniteRadii_CodeUnits.h5\")"
   ]
  },
  {
   "cell_type": "code",
   "execution_count": null,
   "metadata": {},
   "outputs": [],
   "source": [
    "h = scri.SpEC.read_from_h5(\n",
    "      f\"{path}/R0390.dir\",\n",
    "      dataType = scri.h,\n",
    "      frameType = scri.Inertial,\n",
    "      r_is_scaled_out = True,\n",
    "      m_is_scaled_out = True,\n",
    ")"
   ]
  },
  {
   "cell_type": "code",
   "execution_count": null,
   "metadata": {},
   "outputs": [],
   "source": [
    "h.interpolate(t_interpolate)"
   ]
  },
  {
   "cell_type": "code",
   "execution_count": null,
   "metadata": {},
   "outputs": [],
   "source": [
    "l, m = 2, 2\n",
    "plt.plot(h.t,h.data[:, lm(l,m,h.ell_min)])"
   ]
  },
  {
   "cell_type": "code",
   "execution_count": null,
   "metadata": {},
   "outputs": [],
   "source": []
  },
  {
   "cell_type": "code",
   "execution_count": null,
   "metadata": {},
   "outputs": [],
   "source": [
    "\n",
    "\n"
   ]
  },
  {
   "cell_type": "code",
   "execution_count": null,
   "metadata": {},
   "outputs": [],
   "source": []
  }
 ],
 "metadata": {
  "kernelspec": {
   "display_name": "sxs",
   "language": "python",
   "name": "python3"
  },
  "language_info": {
   "codemirror_mode": {
    "name": "ipython",
    "version": 3
   },
   "file_extension": ".py",
   "mimetype": "text/x-python",
   "name": "python",
   "nbconvert_exporter": "python",
   "pygments_lexer": "ipython3",
   "version": "3.11.9"
  }
 },
 "nbformat": 4,
 "nbformat_minor": 2
}
