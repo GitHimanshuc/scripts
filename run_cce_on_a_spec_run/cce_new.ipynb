{
 "cells": [
  {
   "cell_type": "code",
   "execution_count": null,
   "metadata": {},
   "outputs": [],
   "source": [
    "import scri\n",
    "import matplotlib.pyplot as plt\n",
    "from pathlib import Path\n",
    "from spherical_functions import LM_index as lm\n",
    "import json\n",
    "import pickle\n",
    "\n",
    "plt.style.use('ggplot')\n",
    "plt.rcParams[\"figure.figsize\"] = (12,10)"
   ]
  },
  {
   "cell_type": "code",
   "execution_count": null,
   "metadata": {},
   "outputs": [],
   "source": [
    "cce_data = Path(\"/groups/sxs/hchaudha/spec_runs/CCE_stuff/CceExecutables/CharacteristicExtractReduction.h5\")\n",
    "cce_data = Path(\"/groups/sxs/hchaudha/spec_runs/CCE_stuff/tests/CharacteristicExtractReduction.h5\")\n",
    "cce_data = Path(\"/groups/sxs/hchaudha/spec_runs/high_accuracy_L35/cce_bondi/Lev3_R0258/red_Lev3_R0258_VolumeData.h5\")\n",
    "cce_data = Path(\"/groups/sxs/hchaudha/spec_runs/high_accuracy_L35/cce_bondi/Lev4_R0258/red_Lev4_R0258_VolumeData.h5\")\n",
    "cce_data = Path(\"/groups/sxs/hchaudha/spec_runs/high_accuracy_L35/cce_bondi/Lev5_R0258/red_Lev5_R0258_VolumeData.h5\")\n",
    "cce_data = Path(\"/groups/sxs/hchaudha/spec_runs/high_accuracy_L35_master/cce_bondi/Lev5_R0257/red_Lev5_R0257_VolumeData.h5\")\n",
    "cce_data = Path(\"/groups/sxs/hchaudha/spec_runs/high_accuracy_L35/cce_bondi/Lev5_variations/258_10_5_5_6_128_35_50/red_Lev5_R0258_VolumeData.h5\")"
   ]
  },
  {
   "cell_type": "code",
   "execution_count": null,
   "metadata": {},
   "outputs": [],
   "source": [
    "\n",
    "abd = scri.create_abd_from_h5(\n",
    "      file_name=str(cce_data),\n",
    "      file_format=\"spectrecce_v1\",\n",
    "      # ch_mass=1.0,  # Optional; helpful if known\n",
    "      # t_interpolate=t_worldtube,  # Optional; for some specified values of `t_worldtube`\n",
    "      # t_0_superrest=3000,\n",
    "      # padding_time=400\n",
    "    )\n",
    "\n",
    "h = abd.h\n",
    "\n",
    "time_cut = 34500\n",
    "plt.plot(h.t[h.t<time_cut], h.data[:, h.index(2,2)][h.t<time_cut])\n",
    "\n",
    "plt.show()"
   ]
  },
  {
   "cell_type": "code",
   "execution_count": null,
   "metadata": {},
   "outputs": [],
   "source": [
    "violations = abd.bondi_violation_norms"
   ]
  },
  {
   "cell_type": "code",
   "execution_count": null,
   "metadata": {},
   "outputs": [],
   "source": [
    "violation_dict = {\n",
    "  't': abd.t,\n",
    "  '0': violations[0],\n",
    "  '1': violations[1],\n",
    "  '2': violations[2],\n",
    "  '3': violations[3],\n",
    "  '4': violations[4],\n",
    "  '5': violations[5]\n",
    "}\n",
    "\n",
    "with open(cce_data.parent/\"violation_dict.pkl\",'wb') as f:\n",
    "  pickle.dump(violation_dict,f)"
   ]
  },
  {
   "cell_type": "code",
   "execution_count": null,
   "metadata": {},
   "outputs": [],
   "source": [
    "\n",
    "colors = ['#1f77b4', '#ff7f0e', '#2ca02c', '#d62728', '#9467bd', '#8c564b']\n",
    "plt.semilogy(violation_dict['t'],violation_dict['5'],linestyle='--',label='5',color=colors[5])\n",
    "plt.semilogy(violation_dict['t'],violation_dict['4'],linestyle='--',label='4',color=colors[4])\n",
    "plt.semilogy(violation_dict['t'],violation_dict['3'],linestyle='--',label='3',color=colors[3])\n",
    "plt.semilogy(violation_dict['t'],violation_dict['2'],linestyle='--',label='2',color=colors[2])\n",
    "plt.semilogy(violation_dict['t'],violation_dict['1'],linestyle='--',label='1',color=colors[1])\n",
    "plt.semilogy(violation_dict['t'],violation_dict['0'],linestyle='--',label='0',color=colors[0])\n",
    "\n",
    "plt.xlabel('t')\n",
    "plt.ylabel(\"violations\")\n",
    "plt.legend()\n",
    "plt.tight_layout()\n",
    "plt.savefig(cce_data.parent/\"violations.png\")"
   ]
  },
  {
   "cell_type": "code",
   "execution_count": null,
   "metadata": {},
   "outputs": [],
   "source": [
    "violations[2]"
   ]
  },
  {
   "cell_type": "code",
   "execution_count": null,
   "metadata": {},
   "outputs": [],
   "source": [
    "violation_dict = {\n",
    "  't': abd.t,\n",
    "  '0': violations[0],\n",
    "  '1': violations[1],\n",
    "  '2': violations[2],\n",
    "  '3': violations[3],\n",
    "  '4': violations[4],\n",
    "  '5': violations[5]\n",
    "}\n",
    "\n",
    "violation_dict2 = data['Lev5']['0258']"
   ]
  },
  {
   "cell_type": "code",
   "execution_count": null,
   "metadata": {},
   "outputs": [],
   "source": [
    "\n",
    "minT = violation_dict['t'].min()\n",
    "maxT = violation_dict['t'].max()\n",
    "print(f\"{minT=}, {maxT=}\")\n",
    "mask = (violation_dict2['t'] < maxT) & (violation_dict2['t']  > minT)\n",
    "# maxT = 200\n",
    "colors = ['#1f77b4', '#ff7f0e', '#2ca02c', '#d62728', '#9467bd', '#8c564b']\n",
    "plt.semilogy(violation_dict2['t'][mask],violation_dict2['5'][mask],label='5', color=colors[5])\n",
    "plt.semilogy(violation_dict2['t'][mask],violation_dict2['4'][mask],label='4', color=colors[4])\n",
    "plt.semilogy(violation_dict2['t'][mask],violation_dict2['3'][mask],label='3', color=colors[3])\n",
    "plt.semilogy(violation_dict2['t'][mask],violation_dict2['2'][mask],label='2', color=colors[2])\n",
    "plt.semilogy(violation_dict2['t'][mask],violation_dict2['1'][mask],label='1', color=colors[1])\n",
    "plt.semilogy(violation_dict2['t'][mask],violation_dict2['0'][mask],label='0', color=colors[0])\n",
    "\n",
    "plt.semilogy(violation_dict['t'],violation_dict['5'],linestyle='--',label='2200_5',color=colors[5])\n",
    "plt.semilogy(violation_dict['t'],violation_dict['4'],linestyle='--',label='2200_4',color=colors[4])\n",
    "plt.semilogy(violation_dict['t'],violation_dict['3'],linestyle='--',label='2200_3',color=colors[3])\n",
    "plt.semilogy(violation_dict['t'],violation_dict['2'],linestyle='--',label='2200_2',color=colors[2])\n",
    "plt.semilogy(violation_dict['t'],violation_dict['1'],linestyle='--',label='2200_1',color=colors[1])\n",
    "plt.semilogy(violation_dict['t'],violation_dict['0'],linestyle='--',label='2200_0',color=colors[0])\n",
    "\n",
    "plt.xlabel('t')\n",
    "plt.ylabel(\"violations\")\n",
    "plt.legend()"
   ]
  },
  {
   "cell_type": "code",
   "execution_count": null,
   "metadata": {},
   "outputs": [],
   "source": [
    "\n",
    "minT = violation_dict2['t'].min()\n",
    "maxT = violation_dict2['t'].max()\n",
    "print(f\"{minT=}, {maxT=}\")\n",
    "mask = (violation_dict2['t'] < maxT) & (violation_dict2['t']  > minT)\n",
    "# maxT = 200\n",
    "colors = ['#1f77b4', '#ff7f0e', '#2ca02c', '#d62728', '#9467bd', '#8c564b']\n",
    "plt.semilogy(violation_dict2['t'][mask],violation_dict2['5'][mask],label='5', color=colors[5])\n",
    "plt.semilogy(violation_dict2['t'][mask],violation_dict2['4'][mask],label='4', color=colors[4])\n",
    "plt.semilogy(violation_dict2['t'][mask],violation_dict2['3'][mask],label='3', color=colors[3])\n",
    "plt.semilogy(violation_dict2['t'][mask],violation_dict2['2'][mask],label='2', color=colors[2])\n",
    "plt.semilogy(violation_dict2['t'][mask],violation_dict2['1'][mask],label='1', color=colors[1])\n",
    "plt.semilogy(violation_dict2['t'][mask],violation_dict2['0'][mask],label='0', color=colors[0])\n",
    "\n",
    "plt.xlabel('t')\n",
    "plt.ylabel(\"violations\")\n",
    "plt.legend()"
   ]
  },
  {
   "cell_type": "code",
   "execution_count": null,
   "metadata": {},
   "outputs": [],
   "source": [
    "main_folder = Path(\"/groups/sxs/hchaudha/spec_runs/high_accuracy_L35/cce_bondi\")"
   ]
  },
  {
   "cell_type": "code",
   "execution_count": null,
   "metadata": {},
   "outputs": [],
   "source": [
    "bondi_violations_dicts = list(main_folder.glob(\"*Lev*/bondi*\"))\n",
    "bondi_violations_dicts = list(main_folder.glob(\"Lev5_R0258/bondi*\"))"
   ]
  },
  {
   "cell_type": "code",
   "execution_count": null,
   "metadata": {},
   "outputs": [],
   "source": [
    "bondi_violations_dicts.sort()\n",
    "bondi_violations_dicts"
   ]
  },
  {
   "cell_type": "code",
   "execution_count": null,
   "metadata": {},
   "outputs": [],
   "source": [
    "import pickle\n",
    "\n",
    "data = {\n",
    "  \"Lev3\":{},\n",
    "  \"Lev4\":{},\n",
    "  \"Lev5\":{},\n",
    "  \"Lev5_old\":{}\n",
    "}\n",
    "for file in bondi_violations_dicts:\n",
    "  with file.open('rb') as f:\n",
    "    lev = str(file).split(\"/\")[-2][3]\n",
    "    radius = str(file).split(\"/\")[-2][-4:]\n",
    "    if radius == \"_old\":\n",
    "      lev = lev+\"_old\"\n",
    "      radius = str(file).split(\"/\")[-2][-8:-4]\n",
    "    print(lev,radius)\n",
    "    data[\"Lev\"+lev][radius] = pickle.load(f)\n"
   ]
  },
  {
   "cell_type": "code",
   "execution_count": null,
   "metadata": {},
   "outputs": [],
   "source": [
    "levs = data.keys()\n",
    "\n",
    "\n",
    "bondi_violation = '2'\n",
    "minT = 220\n",
    "maxT = 7200\n",
    "# maxT = 200\n",
    "RADISU = 200\n",
    "\n",
    "for lev in levs:\n",
    "  # if lev!='Lev5':\n",
    "  #   continue\n",
    "  for radius in data[lev].keys():\n",
    "    # if int(radius) != RADISU:\n",
    "    #   continue\n",
    "    if int(radius) < 150:\n",
    "      continue\n",
    "    # print(radius)\n",
    "\n",
    "    t = data[lev][radius]['t']\n",
    "    y = data[lev][radius][bondi_violation]\n",
    "\n",
    "    mask = (t < maxT) & (t > minT)\n",
    "    if lev == \"Lev3\":\n",
    "      # plt.plot(t[mask],y[mask],label=f\"{lev}_{radius}\",linestyle='-')\n",
    "      plt.semilogy(t[mask],y[mask],label=f\"{lev}_{radius}\",linestyle='-')\n",
    "    elif lev == 'Lev4':\n",
    "      # plt.plot(t[mask],y[mask],label=f\"{lev}_{radius}\",linestyle='--')\n",
    "      plt.semilogy(t[mask],y[mask],label=f\"{lev}_{radius}\",linestyle='--')\n",
    "    elif lev == 'Lev5':\n",
    "      # plt.plot(t[mask],y[mask],label=f\"{lev}_{radius}\",linestyle='--')\n",
    "      plt.semilogy(t[mask],y[mask],label=f\"{lev}_{radius}\",linestyle='--')\n",
    "    else:\n",
    "      # plt.plot(t[mask],y[mask],label=f\"{lev}_{radius}\",linestyle='-.')\n",
    "      plt.semilogy(t[mask],y[mask],label=f\"{lev}_{radius}\",linestyle='-.')\n",
    "\n",
    "\n",
    "  plt.xlabel('t')\n",
    "  # plt.ylabel(bondi_violation)\n",
    "  plt.title(f\"Bondi Violation {bondi_violation}\")\n",
    "  plt.legend()\n",
    "  plt.savefig(f\"./{lev}.png\")\n",
    "  plt.close()\n",
    "\n",
    "for radius in data['Lev5'].keys():\n",
    "  for lev in levs:\n",
    "    # if 'Lev5' not in lev:\n",
    "    #   continue\n",
    "\n",
    "    t = data[lev][radius]['t']\n",
    "    y = data[lev][radius][bondi_violation]\n",
    "\n",
    "    mask = (t < maxT) & (t > minT)\n",
    "    if lev == \"Lev3\":\n",
    "      # plt.plot(t[mask],y[mask],label=f\"{lev}_{radius}\",linestyle='-')\n",
    "      plt.semilogy(t[mask],y[mask],label=f\"{lev}_{radius}\",linestyle='-')\n",
    "    elif lev == 'Lev4':\n",
    "      # plt.plot(t[mask],y[mask],label=f\"{lev}_{radius}\",linestyle='--')\n",
    "      plt.semilogy(t[mask],y[mask],label=f\"{lev}_{radius}\",linestyle='--')\n",
    "    elif lev == 'Lev5':\n",
    "      # plt.plot(t[mask],y[mask],label=f\"{lev}_{radius}\",linestyle='--')\n",
    "      plt.semilogy(t[mask],y[mask],label=f\"{lev}_{radius}\",linestyle='--')\n",
    "    else:\n",
    "      # plt.plot(t[mask],y[mask],label=f\"{lev}_{radius}\",linestyle='-.')\n",
    "      plt.semilogy(t[mask],y[mask],label=f\"{lev}_{radius}\",linestyle='-.')\n",
    "\n",
    "\n",
    "  plt.xlabel('t')\n",
    "  # plt.ylabel(bondi_violation)\n",
    "  plt.title(f\"Bondi Violation {bondi_violation}\")\n",
    "  plt.legend()\n",
    "  plt.tight_layout()\n",
    "  plt.savefig(f\"./{radius}.png\")\n",
    "  plt.close()"
   ]
  },
  {
   "cell_type": "code",
   "execution_count": null,
   "metadata": {},
   "outputs": [],
   "source": [
    "levs = data.keys()\n",
    "\n",
    "\n",
    "bondi_violation = '2'\n",
    "minT = 2150\n",
    "maxT = 7500\n",
    "RADISU = 900\n",
    "\n",
    "for lev in levs:\n",
    "  # if lev!='Lev5':\n",
    "  #   continue\n",
    "  for radius in data[lev].keys():\n",
    "    # if int(radius) != RADISU:\n",
    "    #   continue\n",
    "    if int(radius) < 150:\n",
    "      continue\n",
    "    # print(radius)\n",
    "\n",
    "    t = data[lev][radius]['t']\n",
    "    y = data[lev][radius][bondi_violation]\n",
    "\n",
    "    mask = (t < maxT) & (t > minT)\n",
    "    if lev == \"Lev3\":\n",
    "      plt.plot(t[mask],y[mask],label=f\"{lev}_{radius}\",linestyle='-')\n",
    "      # plt.semilogy(t[mask],y[mask],label=f\"{lev}_{radius}\",linestyle='-')\n",
    "    elif lev == 'Lev4':\n",
    "      plt.plot(t[mask],y[mask],label=f\"{lev}_{radius}\",linestyle='--')\n",
    "      # plt.semilogy(t[mask],y[mask],label=f\"{lev}_{radius}\",linestyle='--')\n",
    "    else:\n",
    "      plt.plot(t[mask],y[mask],label=f\"{lev}_{radius}\",linestyle='-.')\n",
    "      # plt.semilogy(t[mask],y[mask],label=f\"{lev}_{radius}\",linestyle='-.')\n",
    "\n",
    "\n",
    "  plt.xlabel('t')\n",
    "  # plt.ylabel(bondi_violation)\n",
    "  plt.title(f\"Bondi Violation {bondi_violation}\")\n",
    "  plt.legend()\n",
    "  plt.savefig(f\"./{lev}.png\")\n",
    "  plt.close()\n",
    "\n",
    "for radius in data['Lev5'].keys():\n",
    "  for lev in levs:\n",
    "  # if lev!='Lev5':\n",
    "  #   continue\n",
    "\n",
    "    t = data[lev][radius]['t']\n",
    "    y = data[lev][radius][bondi_violation]\n",
    "\n",
    "    mask = (t < maxT) & (t > minT)\n",
    "    if lev == \"Lev3\":\n",
    "      plt.plot(t[mask],y[mask],label=f\"{lev}_{radius}\",linestyle='-')\n",
    "      # plt.semilogy(t[mask],y[mask],label=f\"{lev}_{radius}\",linestyle='-')\n",
    "    elif lev == 'Lev4':\n",
    "      plt.plot(t[mask],y[mask],label=f\"{lev}_{radius}\",linestyle='--')\n",
    "      # plt.semilogy(t[mask],y[mask],label=f\"{lev}_{radius}\",linestyle='--')\n",
    "    else:\n",
    "      plt.plot(t[mask],y[mask],label=f\"{lev}_{radius}\",linestyle='-.')\n",
    "      # plt.semilogy(t[mask],y[mask],label=f\"{lev}_{radius}\",linestyle='-.')\n",
    "\n",
    "\n",
    "  plt.xlabel('t')\n",
    "  # plt.ylabel(bondi_violation)\n",
    "  plt.title(f\"Bondi Violation {bondi_violation}\")\n",
    "  plt.legend()\n",
    "  plt.tight_layout()\n",
    "  plt.savefig(f\"./{int(radius)}.png\")\n",
    "  plt.close()"
   ]
  },
  {
   "cell_type": "code",
   "execution_count": null,
   "metadata": {},
   "outputs": [],
   "source": [
    "main_folder = Path(\"/groups/sxs/hchaudha/spec_runs/high_accuracy_L35/cce_bondi/Lev5_variations\")"
   ]
  },
  {
   "cell_type": "code",
   "execution_count": null,
   "metadata": {},
   "outputs": [],
   "source": [
    "bondi_violations_dicts = list(main_folder.glob(\"*/bondi*\"))\n",
    "bondi_violations_dicts"
   ]
  },
  {
   "cell_type": "code",
   "execution_count": null,
   "metadata": {},
   "outputs": [],
   "source": [
    "bondi_violations_dicts[0].parent.stem"
   ]
  },
  {
   "cell_type": "code",
   "execution_count": null,
   "metadata": {},
   "outputs": [],
   "source": [
    "import pickle\n",
    "\n",
    "data = {}\n",
    "for file in bondi_violations_dicts:\n",
    "  with file.open('rb') as f:\n",
    "    data[file.parent.stem] = pickle.load(f)"
   ]
  },
  {
   "cell_type": "code",
   "execution_count": null,
   "metadata": {},
   "outputs": [],
   "source": [
    "\n",
    "bondi_violation = '2'\n",
    "minT = 215\n",
    "maxT = 7500\n",
    "RADISU = 900\n",
    "\n",
    "for key in data.keys():\n",
    "  if \"test\" in key:\n",
    "    continue\n",
    "  t = data[key]['t']\n",
    "  y = data[key][bondi_violation]\n",
    "\n",
    "  mask = (t < maxT) & (t > minT)\n",
    "  # plt.plot(t[mask],y[mask],label=f\"{key}\",linestyle='-.')\n",
    "  plt.semilogy(t[mask],y[mask],label=f\"{key}\",linestyle='-.')\n",
    "\n",
    "\n",
    "plt.xlabel('t')\n",
    "# plt.ylabel(bondi_violation)\n",
    "plt.title(f\"Bondi Violation {bondi_violation}\")\n",
    "plt.tight_layout()\n",
    "plt.legend()\n",
    "plt.savefig(f\"./variations.png\")\n",
    "plt.close()"
   ]
  },
  {
   "cell_type": "markdown",
   "metadata": {},
   "source": [
    "# Compute and save bondi violations"
   ]
  },
  {
   "cell_type": "code",
   "execution_count": null,
   "metadata": {},
   "outputs": [],
   "source": [
    "cce_data_folder = Path(\"/groups/sxs/hchaudha/spec_runs/high_accuracy_L35_variations/Lev5_big_gaussian/GW_data/\")\n",
    "\n",
    "cce_data_paths = list(cce_data_folder.glob(f\"**/red_cce.h5\"))\n",
    "for cce_data in cce_data_paths:\n",
    "  abd = scri.create_abd_from_h5(\n",
    "        file_name=str(cce_data),\n",
    "        file_format=\"spectrecce_v1\",\n",
    "        # ch_mass=1.0,  # Optional; helpful if known\n",
    "        # t_interpolate=t_worldtube,  # Optional; for some specified values of `t_worldtube`\n",
    "        # t_0_superrest=3000,\n",
    "        # padding_time=400\n",
    "      )\n",
    "\n",
    "  violations = abd.bondi_violation_norms\n",
    "  violation_dict = {\n",
    "  't': abd.t,\n",
    "  '0': violations[0],\n",
    "  '1': violations[1],\n",
    "  '2': violations[2],\n",
    "  '3': violations[3],\n",
    "  '4': violations[4],\n",
    "  '5': violations[5]\n",
    "  }\n",
    "\n",
    "  with open(cce_data.parent/\"violation_dict.pkl\",'wb') as f:\n",
    "    pickle.dump(violation_dict,f)\n",
    "\n",
    "\n",
    "  colors = ['#1f77b4', '#ff7f0e', '#2ca02c', '#d62728', '#9467bd', '#8c564b']\n",
    "  plt.semilogy(violation_dict['t'],violation_dict['5'],linestyle='--',label='2200_5',color=colors[5])\n",
    "  plt.semilogy(violation_dict['t'],violation_dict['4'],linestyle='--',label='2200_4',color=colors[4])\n",
    "  plt.semilogy(violation_dict['t'],violation_dict['3'],linestyle='--',label='2200_3',color=colors[3])\n",
    "  plt.semilogy(violation_dict['t'],violation_dict['2'],linestyle='--',label='2200_2',color=colors[2])\n",
    "  plt.semilogy(violation_dict['t'],violation_dict['1'],linestyle='--',label='2200_1',color=colors[1])\n",
    "  plt.semilogy(violation_dict['t'],violation_dict['0'],linestyle='--',label='2200_0',color=colors[0])\n",
    "\n",
    "  plt.xlabel('t')\n",
    "  plt.ylabel(\"violations\")\n",
    "  plt.legend()\n",
    "  plt.tight_layout()\n",
    "  plt.savefig(cce_data.parent/\"violations.png\")\n",
    "  plt.close()"
   ]
  },
  {
   "cell_type": "code",
   "execution_count": null,
   "metadata": {},
   "outputs": [],
   "source": [
    "plt.show()"
   ]
  },
  {
   "cell_type": "code",
   "execution_count": null,
   "metadata": {},
   "outputs": [],
   "source": []
  },
  {
   "cell_type": "markdown",
   "metadata": {},
   "source": [
    "# Rough"
   ]
  },
  {
   "cell_type": "code",
   "execution_count": null,
   "metadata": {},
   "outputs": [],
   "source": [
    "path = Path(\"/groups/sxs/hchaudha/spec_runs/Lev01_test/old_ode_tol/high_accuracy_L35_master/Ev/Lev0_AB/Run/GW2/rh_FiniteRadii_CodeUnits.h5\")\n"
   ]
  },
  {
   "cell_type": "code",
   "execution_count": null,
   "metadata": {},
   "outputs": [],
   "source": [
    "h = scri.SpEC.read_from_h5(\n",
    "      f\"{path}/R0390.dir\",\n",
    "      dataType = scri.h,\n",
    "      frameType = scri.Inertial,\n",
    "      r_is_scaled_out = True,\n",
    "      m_is_scaled_out = True,\n",
    ")"
   ]
  },
  {
   "cell_type": "code",
   "execution_count": null,
   "metadata": {},
   "outputs": [],
   "source": [
    "l, m = 2, 1\n",
    "plt.plot(h.t,h.data[:, lm(l,m,h.ell_min)])"
   ]
  },
  {
   "cell_type": "code",
   "execution_count": null,
   "metadata": {},
   "outputs": [],
   "source": []
  },
  {
   "cell_type": "code",
   "execution_count": null,
   "metadata": {},
   "outputs": [],
   "source": [
    "\n",
    "\n"
   ]
  },
  {
   "cell_type": "code",
   "execution_count": null,
   "metadata": {},
   "outputs": [],
   "source": []
  }
 ],
 "metadata": {
  "kernelspec": {
   "display_name": "sxs",
   "language": "python",
   "name": "python3"
  },
  "language_info": {
   "codemirror_mode": {
    "name": "ipython",
    "version": 3
   },
   "file_extension": ".py",
   "mimetype": "text/x-python",
   "name": "python",
   "nbconvert_exporter": "python",
   "pygments_lexer": "ipython3",
   "version": "3.11.9"
  }
 },
 "nbformat": 4,
 "nbformat_minor": 2
}
