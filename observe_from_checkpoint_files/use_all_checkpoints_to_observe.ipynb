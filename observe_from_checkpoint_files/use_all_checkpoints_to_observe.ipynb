{
 "cells": [
  {
   "cell_type": "code",
   "execution_count": null,
   "metadata": {},
   "outputs": [],
   "source": [
    "import numpy as np\n",
    "import pandas as pd\n",
    "from numba import njit\n",
    "import matplotlib.pyplot as plt\n",
    "import os\n",
    "import glob\n",
    "import shutil\n",
    "import json\n",
    "import shlex\n",
    "import subprocess\n",
    "plt.style.use('ggplot')\n",
    "plt.rcParams[\"figure.figsize\"] = (10,8)"
   ]
  },
  {
   "cell_type": "code",
   "execution_count": null,
   "metadata": {},
   "outputs": [],
   "source": [
    "input_file_path=\"/groups/sxs/hchaudha/scripts/observe_from_checkpoint_files/Gaugecheck_small_bbh.input\"\n",
    "\n",
    "save_folder=\"/groups/sxs/hchaudha/spec_runs/observer_from_checkpoints/\"\n",
    "base_path=\"/groups/sxs/hchaudha/spec_runs/Lev01_test/new_ode_tol/high_accuracy_L35/\"\n",
    "Lev=1"
   ]
  },
  {
   "cell_type": "code",
   "execution_count": null,
   "metadata": {},
   "outputs": [],
   "source": [
    "def get_parent(full_path,parent_level):\n",
    "  arr = full_path.split(\"/\")[:-parent_level]\n",
    "  path=\"\"\n",
    "  for i in arr:\n",
    "    path += i + \"/\"\n",
    "    \n",
    "  return path"
   ]
  },
  {
   "cell_type": "code",
   "execution_count": null,
   "metadata": {},
   "outputs": [],
   "source": [
    "checkpoint_pattern = base_path+f\"Ev/Lev{Lev}_??/Run/Checkpoints/*\"\n",
    "checkpoint_path_collection = []\n",
    "saved_checkpoint_path=[]\n",
    "for folder_name in glob.iglob(checkpoint_pattern, recursive=True):\n",
    "    if os.path.isdir(folder_name):\n",
    "        checkpoint_path_collection.append(folder_name)\n",
    "        saved_checkpoint_path.append(save_folder+folder_name.split(\"/\")[-1])\n",
    "        # Copy the checkpoint folder\n",
    "        shutil.copytree(folder_name,save_folder+folder_name.split(\"/\")[-1])\n",
    "        print(f\"Copied: {folder_name}\")\n",
    "\n",
    "\n",
    "        files_path_collection = []\n",
    "        files_pattern = get_parent(folder_name,2)+\"*.input\"\n",
    "        for file_path in glob.iglob(files_pattern, recursive=True):\n",
    "            if os.path.isfile(file_path):\n",
    "                files_path_collection.append(file_path)\n",
    "\n",
    "        files_pattern = get_parent(folder_name,2)+\"*.txt\"\n",
    "        for file_path in glob.iglob(files_pattern, recursive=True):\n",
    "            if os.path.isfile(file_path):\n",
    "                files_path_collection.append(file_path)\n",
    "\n",
    "\n",
    "        for file in files_path_collection:\n",
    "            shutil.copy(file,save_folder+folder_name.split(\"/\")[-1])\n",
    "\n",
    "        # ApplyObserver path\n",
    "        applyObserverPath = base_path+\"bin/ApplyObservers\"\n",
    "        # Copy ApplyObserver\n",
    "        shutil.copy(applyObserverPath,save_folder+folder_name.split(\"/\")[-1])\n",
    "\n",
    "\n",
    "with open(save_folder+\"paths.json\",'w') as f:\n",
    "    json.dump(checkpoint_path_collection,f,indent=2)"
   ]
  },
  {
   "cell_type": "code",
   "execution_count": null,
   "metadata": {},
   "outputs": [],
   "source": [
    "def ApplyObserver(checkpoint_path,input_file_path):\n",
    "  command=f\"\"\"cd {checkpoint_path} && pwd && ./ApplyObservers -t psi,kappa,H,InitGridHi,InitHhatt,Theta -r 11,122,1,1,Scalar,1 -d 4,4,4,3,1,4 -domaininput \"./GrDomain.input\" -h5prefix \"Cp-VarsGr\" {input_file_path}\"\"\"\n",
    "  return command"
   ]
  },
  {
   "cell_type": "code",
   "execution_count": null,
   "metadata": {},
   "outputs": [],
   "source": [
    "# def split(a, n):\n",
    "#     k, m = divmod(len(a), n)\n",
    "#     return (a[i*k+min(i, m):(i+1)*k+min(i+1, m)] for i in range(n))\n",
    "\n",
    "# list(split(saved_checkpoint_path,4))[0]\n",
    "\n",
    "\n",
    "# Run apply observers in each folder\n",
    "for folder_path in saved_checkpoint_path:\n",
    "  output=subprocess.run(ApplyObserver(folder_path,input_file_path),capture_output=True, shell=True,text=True)\n",
    "  print(output.stderr)\n",
    "  print(f\"Completed folder {folder_path}\\n\")"
   ]
  },
  {
   "cell_type": "markdown",
   "metadata": {},
   "source": [
    "## Combine pvd files"
   ]
  },
  {
   "cell_type": "code",
   "execution_count": null,
   "metadata": {},
   "outputs": [],
   "source": [
    "def read_pvd_file(file_path):\n",
    "  with open(file_path) as f:\n",
    "    data = f.readlines()\n",
    "    write_full_vtk_file_path(data,file_path)\n",
    "    return data\n",
    "\n",
    "\n",
    "def write_full_vtk_file_path(read_data,file_path):\n",
    "  vtk_folder_name= file_path.split(\"/\")[-1][:-4]\n",
    "  vtk_folder_path= file_path[:-4]\n",
    "  for i,path in enumerate(read_data):\n",
    "    read_data[i] = path.replace(vtk_folder_name,vtk_folder_path)\n",
    "\n",
    "\n",
    "def add_lists_skip_random(a,b):\n",
    "  for i in b:\n",
    "    if \"timestep\" in i:\n",
    "      a.append(i)"
   ]
  },
  {
   "cell_type": "code",
   "execution_count": null,
   "metadata": {},
   "outputs": [],
   "source": [
    "gauge_vis_path = save_folder+\"*/*.pvd\"\n",
    "gauge_vis_path_collection = []\n",
    "\n",
    "for folder_name in glob.iglob(gauge_vis_path, recursive=True):\n",
    "    if os.path.isfile(folder_name):\n",
    "        gauge_vis_path_collection.append(folder_name)\n",
    "        print(folder_name)\n",
    "\n",
    "\n",
    "combined_data = read_pvd_file(gauge_vis_path_collection[0])[:4]\n",
    "for i in range(0,len(gauge_vis_path_collection)):\n",
    "  add_lists_skip_random(combined_data, read_pvd_file(gauge_vis_path_collection[i])[3:-2]) #remove the last two lines and first three lines\n",
    "\n",
    "combined_data = combined_data + read_pvd_file(gauge_vis_path_collection[0])[-2:]"
   ]
  },
  {
   "cell_type": "code",
   "execution_count": null,
   "metadata": {},
   "outputs": [],
   "source": [
    "with open(save_folder+\"combined.pvd\",'w') as f:\n",
    "  f.writelines(combined_data)"
   ]
  }
 ],
 "metadata": {
  "kernelspec": {
   "display_name": "Python 3.9.7 ('sxs')",
   "language": "python",
   "name": "python3"
  },
  "language_info": {
   "codemirror_mode": {
    "name": "ipython",
    "version": 3
   },
   "file_extension": ".py",
   "mimetype": "text/x-python",
   "name": "python",
   "nbconvert_exporter": "python",
   "pygments_lexer": "ipython3",
   "version": "3.11.9"
  },
  "vscode": {
   "interpreter": {
    "hash": "009adc1c8ee1f76b2251d0bb13ed6e10d4fef5bd0a6f7d195d9f2892e5880fe6"
   }
  }
 },
 "nbformat": 4,
 "nbformat_minor": 2
}
