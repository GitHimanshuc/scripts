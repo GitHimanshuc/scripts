{
 "cells": [
  {
   "cell_type": "code",
   "execution_count": null,
   "metadata": {},
   "outputs": [],
   "source": [
    "import numpy as np\n",
    "import matplotlib.pyplot as plt\n",
    "import pandas as pd\n",
    "from pathlib import Path"
   ]
  },
  {
   "cell_type": "code",
   "execution_count": null,
   "metadata": {},
   "outputs": [],
   "source": [
    "def read_dat_file(file_name):\n",
    "  cols_names = []\n",
    "  # Read column names\n",
    "  with open(file_name,'r') as f:\n",
    "      lines = f.readlines()\n",
    "      for line in lines:\n",
    "        if \"#\" not in line:\n",
    "          # From now onwards it will be all data\n",
    "          break\n",
    "        elif \"=\" in line:\n",
    "          if (\"[\" not in line) and (\"]\" not in line):\n",
    "             continue\n",
    "          cols_names.append(line.split('=')[-1][1:-1].strip())\n",
    "        else:\n",
    "          continue\n",
    "\n",
    "  return pd.read_csv(file_name,sep=\"\\s+\",comment=\"#\",names=cols_names)\n",
    "\n",
    "def find_topologies(path:Path):\n",
    "  topologies_set = set()\n",
    "  for i in path.iterdir():\n",
    "    if i.is_file():\n",
    "      topologies_set.add(i.stem.split(\"_\")[0])\n",
    "\n",
    "  return list(topologies_set)\n",
    "\n",
    "def find_dat_file_names(path:Path):\n",
    "  file_name_set = set()\n",
    "  for i in path.iterdir():\n",
    "    if i.is_file():\n",
    "      file_name_set.add(i.stem.split(\"_\")[1])\n",
    "\n",
    "  return list(file_name_set)\n",
    "\n",
    "def get_top_name_and_mode(name):\n",
    "  # Bf0I1(12 modes).dat -> Bf0I1, 12\n",
    "  top_name = name.split(\"(\")[0]\n",
    "  mode = int(name.split(\"(\")[-1].split(\" \")[0])\n",
    "  return top_name,mode\n",
    "\n",
    "def find_highest_modes_for_topologies(path:Path):\n",
    "  highest_mode_dict = {}\n",
    "  for i in path.iterdir():\n",
    "    if i.is_file():\n",
    "      top_name, mode = get_top_name_and_mode(i.stem)\n",
    "      if top_name in highest_mode_dict:\n",
    "        if highest_mode_dict[top_name] < mode:\n",
    "          highest_mode_dict[top_name] = mode\n",
    "      else:\n",
    "        highest_mode_dict[top_name] = mode\n",
    "\n",
    "  return highest_mode_dict\n",
    "\n",
    "def make_mode_dataframe(path:Path):\n",
    "  highest_mode_dict = find_highest_modes_for_topologies(path)\n",
    "  top_dataframe_list = {i:[] for i in highest_mode_dict}\n",
    "\n",
    "  for i in path.iterdir():\n",
    "    for top_name in highest_mode_dict:\n",
    "      if (top_name+\"(\") in i.stem:\n",
    "        top_dataframe_list[top_name].append(read_dat_file(i))\n",
    "\n",
    "  top_mode_df_dict = {}\n",
    "  for i,df_list in top_dataframe_list.items():\n",
    "    result = pd.concat(df_list, ignore_index=True)\n",
    "\n",
    "    # Remove duplicates based on 't' column (keep first occurrence)\n",
    "    # result = result.drop_duplicates(subset='t', keep='first')\n",
    "\n",
    "    # Sort by 't' and reset index\n",
    "    top_mode_df_dict[i] = result.sort_values('t').reset_index(drop=True)\n",
    "  return top_mode_df_dict\n",
    "\n",
    "# make_mode_dataframe(Path(\"/groups/sxs/hchaudha/spec_runs/del/filtering/13_set1_L4_1500_Lev4/extracted-PowerDiagnostics/FilledCylinderCB0.dir/Powerpsi.dir\"))"
   ]
  },
  {
   "cell_type": "code",
   "execution_count": null,
   "metadata": {},
   "outputs": [],
   "source": [
    "file = Path(\"/groups/sxs/hchaudha/spec_runs/del/filtering/6_set1_L3_Lev3/extracted-PowerDiagnostics/SphereC0.dir/Powerpsi.dir/Bf0I1(19 modes).dat\")\n",
    "file = Path(\"/groups/sxs/hchaudha/spec_runs/del/filtering/16_set1_L3_Lev3/extracted-PowerDiagnostics/SphereC0.dir/Powerpsi.dir/Bf0I1(20 modes).dat\")\n",
    "# file = Path(\"/groups/sxs/hchaudha/spec_runs/del/filtering/16_set1_L3_Lev3/extracted-PowerDiagnostics/SphereC0.dir/Bf0I1_HighestThirdConvergenceFactor.dat\")\n",
    "# file = Path(\"/groups/sxs/hchaudha/spec_runs/del/filtering/6_set1_L3_Lev3/extracted-PowerDiagnostics/SphereC0.dir/Bf0I1_TruncationError.dat\")\n",
    "# file = Path(\"/groups/sxs/hchaudha/spec_runs/del/filtering/13_set1_L4_1500_Lev4/extracted-PowerDiagnostics/SphereC10.dir/Powerpsi.dir/Bf1S2(15 modes).dat\")\n",
    "file = Path(\"/groups/sxs/hchaudha/spec_runs/del/filtering/16_set1_L3_HP32_AF_Lev3/extracted-PowerDiagnostics/SphereC1.dir/Powerkappa.dir/Bf0I1(15 modes).dat\")"
   ]
  },
  {
   "cell_type": "code",
   "execution_count": null,
   "metadata": {},
   "outputs": [],
   "source": [
    "# data = read_dat_file(file)\n",
    "h5_path = Path('/groups/sxs/hchaudha/spec_runs/del/filtering/13_set1_L4_1500_Lev4')\n",
    "# h5_path = Path('/groups/sxs/hchaudha/spec_runs/6_segs/6_set1_L3/h5_files_Lev3')\n",
    "h5_path = Path('/groups/sxs/hchaudha/spec_runs/16_set1_L3/h5_files_Lev3/')\n",
    "# h5_path = Path('/groups/sxs/hchaudha/spec_runs/16_set1_L3_HP28/h5_files_Lev3')\n",
    "# h5_path = Path('/groups/sxs/hchaudha/spec_runs/6_segs/6_set1_L6/h5_files_Lev6/')\n",
    "\n",
    "domain = 'FilledCylinderCB0'\n",
    "domain = 'SphereC1'\n",
    "# domain = 'SphereA0'\n",
    "\n",
    "psi_or_kappa = 'kappa'\n",
    "psi_or_kappa = 'psi'\n",
    "\n",
    "folder_path = Path(f\"{h5_path}/extracted-PowerDiagnostics/{domain}.dir/Power{psi_or_kappa}.dir\")\n",
    "top_data = make_mode_dataframe(folder_path)\n",
    "print(top_data.keys())"
   ]
  },
  {
   "cell_type": "code",
   "execution_count": null,
   "metadata": {},
   "outputs": [],
   "source": [
    "top_name = 'Bf1S2'\n",
    "top_name = list(top_data.keys())[0]\n",
    "\n",
    "data = top_data[top_name]\n",
    "column_names = data.columns[1:]\n",
    "visual_data = data[column_names]\n",
    "\n",
    "plt.figure(figsize=(15, 10))\n",
    "imshow_plot = plt.imshow(\n",
    "    # visual_data, \n",
    "    np.log10(visual_data), \n",
    "    aspect='auto', \n",
    "    cmap='RdYlGn_r', \n",
    "    origin='lower',interpolation='none',\n",
    ")\n",
    "\n",
    "plt.xticks(\n",
    "    ticks=np.arange(len(visual_data.columns)), \n",
    "    labels=[i.split(\" \")[-1] for i in column_names], \n",
    "    rotation=90\n",
    ")\n",
    "\n",
    "ytick_step = 1\n",
    "ytick_step = len(visual_data) // 10  # Show about 10 ticks\n",
    "plt.yticks(\n",
    "    ticks=np.arange(0, len(visual_data), ytick_step), \n",
    "    labels=data['t'][::ytick_step].astype(int)\n",
    ")\n",
    "plt.colorbar(imshow_plot)\n",
    "plt.ylabel('t(M)')\n",
    "plt.title(f'{str(folder_path)[31:]}_{top_name}')\n",
    "plt.tight_layout() \n",
    "plt.grid(False)\n",
    "plt.show()"
   ]
  },
  {
   "cell_type": "code",
   "execution_count": null,
   "metadata": {},
   "outputs": [],
   "source": [
    "cols_to_use = [i for i in data.columns if 't' not in i]\n",
    "df = np.log10(data[cols_to_use])\n",
    "df['row_min'] = df.min(axis=1)\n",
    "df['row_max'] = df.max(axis=1)\n",
    "df['row_mean'] = df.mean(axis=1)\n",
    "df['row_std'] = df.std(axis=1)\n",
    "\n",
    "# plt.plot(df['row_min'])\n",
    "# plt.plot(df['row_mean'])\n",
    "# plt.plot(df['row_max'])\n",
    "# plt.plot(df['row_std'])\n",
    "plt.figure(figsize=(12, 8))\n",
    "\n",
    "for i in cols_to_use:\n",
    "  plt.plot(data['t'], df[f'{i}'])\n",
    "  # plt.plot(data['t'], df[f'{i}'], label = f'{i}')\n",
    "plt.legend()\n",
    "plt.tight_layout()\n",
    "plt.title(f'{str(folder_path)[31:]}_{top_name}')\n",
    "plt.tight_layout() \n",
    "plt.grid(False)\n",
    "plt.show()\n",
    "# x = data['t']\n",
    "# y = df['row_mean']\n",
    "# y_err = df['row_std']\n",
    "# plt.errorbar(x, y, yerr=y_err, fmt='-o', label='Data with Error Bars', ecolor='red', capsize=4)"
   ]
  },
  {
   "cell_type": "markdown",
   "metadata": {},
   "source": [
    "## Reading the whole folder"
   ]
  },
  {
   "cell_type": "code",
   "execution_count": null,
   "metadata": {},
   "outputs": [],
   "source": [
    "power_diag_path = Path(\"/groups/sxs/hchaudha/spec_runs/del/filtering/13_set1_L4_1500_Lev4/extracted-PowerDiagnostics\")"
   ]
  },
  {
   "cell_type": "code",
   "execution_count": null,
   "metadata": {},
   "outputs": [],
   "source": [
    "find_highest_modes_for_topologies(Path(\"/groups/sxs/hchaudha/spec_runs/del/filtering/13_set1_L4_1500_Lev4/extracted-PowerDiagnostics/FilledCylinderCB0.dir/Powerpsi.dir\"))"
   ]
  },
  {
   "cell_type": "code",
   "execution_count": null,
   "metadata": {},
   "outputs": [],
   "source": [
    "find_dat_file_names(Path(\"/groups/sxs/hchaudha/spec_runs/del/filtering/13_set1_L4_1500_Lev4/extracted-PowerDiagnostics/FilledCylinderCB0.dir\"))"
   ]
  },
  {
   "cell_type": "code",
   "execution_count": null,
   "metadata": {},
   "outputs": [],
   "source": []
  }
 ],
 "metadata": {
  "kernelspec": {
   "display_name": "sxs",
   "language": "python",
   "name": "python3"
  },
  "language_info": {
   "codemirror_mode": {
    "name": "ipython",
    "version": 3
   },
   "file_extension": ".py",
   "mimetype": "text/x-python",
   "name": "python",
   "nbconvert_exporter": "python",
   "pygments_lexer": "ipython3",
   "version": "3.11.9"
  }
 },
 "nbformat": 4,
 "nbformat_minor": 2
}
