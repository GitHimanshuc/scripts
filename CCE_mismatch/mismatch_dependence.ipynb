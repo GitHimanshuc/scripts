{
 "cells": [
  {
   "cell_type": "code",
   "execution_count": null,
   "id": "c797f9af",
   "metadata": {},
   "outputs": [],
   "source": [
    "import sxs\n",
    "import matplotlib.pyplot as plt\n",
    "from pathlib import Path\n",
    "import json\n",
    "import numpy as np\n",
    "import re\n",
    "import scipy as sp\n",
    "\n",
    "# sxs.write_config(download=True, cache=True, auto_supersede=False)\n",
    "sxs.read_config()"
   ]
  },
  {
   "cell_type": "markdown",
   "id": "f8713d8f",
   "metadata": {},
   "source": [
    "# Functions"
   ]
  },
  {
   "cell_type": "code",
   "execution_count": null,
   "id": "591fb5e9",
   "metadata": {},
   "outputs": [],
   "source": [
    "def extract_levs(strings):\n",
    "    \"\"\"Extracts unique Lev references like Lev1, Lev2, etc., sorted by numeric value.\"\"\"\n",
    "    levs = set()\n",
    "    for s in strings:\n",
    "        found = re.findall(r\"Lev\\d+\", s)\n",
    "        levs.update(found)\n",
    "    # Sort by numeric part\n",
    "    return sorted(levs, key=lambda x: int(re.search(r\"\\d+\", x).group()))\n",
    "\n",
    "\n",
    "def get_center_diff(key, lev_low, lev_high):\n",
    "    high_lev = sxs.load(f\"{key}/Lev{lev_high}\").horizons\n",
    "    low_lev = sxs.load(f\"{key}/Lev{lev_low}\").horizons\n",
    "\n",
    "    t = low_lev.A.coord_center_inertial.time\n",
    "    diff_A = (\n",
    "        high_lev.A.coord_center_inertial.interpolate(t)\n",
    "        - low_lev.A.coord_center_inertial\n",
    "    )\n",
    "    int_diff_A = sp.integrate.simpson(np.linalg.norm(diff_A, axis=1), diff_A.time)\n",
    "\n",
    "    t = low_lev.B.coord_center_inertial.time\n",
    "    diff_B = (\n",
    "        high_lev.B.coord_center_inertial.interpolate(t)\n",
    "        - low_lev.B.coord_center_inertial\n",
    "    )\n",
    "    int_diff_B = sp.integrate.simpson(np.linalg.norm(diff_B, axis=1), diff_B.time)\n",
    "\n",
    "    return int_diff_A, int_diff_B\n",
    "\n",
    "\n",
    "def get_mismatch(key, mis_dict):\n",
    "    # First get the mismatch value\n",
    "    highest_two_levs = extract_levs(mis_dict[key].keys())[-2:]\n",
    "    mismatch_key = f\"({highest_two_levs[0]}, {highest_two_levs[1]}) 4d\"\n",
    "\n",
    "    mis_val = mis_dict[key][mismatch_key][\"mismatch\"]\n",
    "\n",
    "    return int(highest_two_levs[0][-1]), int(highest_two_levs[1][-1]), mis_val\n",
    "\n",
    "\n",
    "def get_mismatch_and_center_diff(key, mis_dict, min_lev=None):\n",
    "    lev_low, lev_high, mis_val = get_mismatch(key, mis_dict)\n",
    "    if min_lev is not None:\n",
    "        if lev_low < min_lev:\n",
    "            raise ValueError(f\"Mismatch level {lev_low} is below minimum level {min_lev}.\")\n",
    "    int_diff_A, int_diff_B = get_center_diff(key, lev_low, lev_high)\n",
    "    return mis_val, int_diff_A, int_diff_B\n"
   ]
  },
  {
   "cell_type": "markdown",
   "id": "0d0a0bff",
   "metadata": {},
   "source": [
    "# Work Area"
   ]
  },
  {
   "cell_type": "markdown",
   "id": "6f1b9e70",
   "metadata": {},
   "source": [
    "## Load mismatch dict"
   ]
  },
  {
   "cell_type": "code",
   "execution_count": null,
   "id": "d06299d8",
   "metadata": {},
   "outputs": [],
   "source": [
    "mismatch_data = Path(\"./data/data_mismatch.json\")\n",
    "if not mismatch_data.exists():\n",
    "    raise FileNotFoundError(f\"Data mismatch file not found: {mismatch_data}\")\n",
    "\n",
    "mis_dict = json.loads(mismatch_data.read_text())\n",
    "len(mis_dict.keys())"
   ]
  },
  {
   "cell_type": "code",
   "execution_count": null,
   "id": "b22aa2ab",
   "metadata": {},
   "outputs": [],
   "source": [
    "base_key = list(mis_dict.keys())[10]\n",
    "# base_key = 'SXS:BBH:1359'\n",
    "print(base_key)\n",
    "mis_dict[base_key].keys(), mis_dict[base_key]"
   ]
  },
  {
   "cell_type": "markdown",
   "id": "59616b64",
   "metadata": {},
   "source": [
    "## Plot center diff vs mismatch"
   ]
  },
  {
   "cell_type": "code",
   "execution_count": null,
   "id": "981d6039",
   "metadata": {},
   "outputs": [],
   "source": [
    "mis_arr = []\n",
    "center_diff_arr = []\n",
    "\n",
    "for key in list(mis_dict.keys())[::-1][:25]:\n",
    "    mis_val, int_diff_A, int_diff_B = get_mismatch_and_center_diff(key, mis_dict)\n",
    "    print(f\"{key}: {mis_val}, {int_diff_A:.3e}, {int_diff_B:.3e}\")\n",
    "    mis_arr.append(mis_val)\n",
    "    center_diff_arr.append(int_diff_A)"
   ]
  },
  {
   "cell_type": "code",
   "execution_count": null,
   "id": "6cc4ef63",
   "metadata": {},
   "outputs": [],
   "source": [
    "plt.scatter( center_diff_arr,mis_arr)\n",
    "plt.yscale(\"log\")\n",
    "plt.xscale(\"log\")"
   ]
  },
  {
   "cell_type": "markdown",
   "id": "fd482d52",
   "metadata": {},
   "source": [
    "## Sxs catalog"
   ]
  },
  {
   "cell_type": "code",
   "execution_count": null,
   "id": "56db5f88",
   "metadata": {},
   "outputs": [],
   "source": [
    "df = sxs.load(\"dataframe\", tag=\"3.0.0\")"
   ]
  },
  {
   "cell_type": "code",
   "execution_count": null,
   "id": "7980e2b4",
   "metadata": {},
   "outputs": [],
   "source": [
    "fdf = df.copy()\n",
    "\n",
    "fdf = fdf[fdf['reference_eccentricity'] < 1e-3]\n",
    "fdf = fdf[fdf['object_types'] == \"BHBH\"]\n",
    "fdf = fdf[fdf['common_horizon_time'] > 6000.0]\n",
    "# fdf = fdf[fdf['common_horizon_time'] < 200000.0]\n",
    "fdf = fdf[fdf['reference_mass_ratio'] < 5]\n",
    "fdf = fdf[fdf['reference_dimensionless_spin1_mag'] < 0.4]\n",
    "fdf = fdf[fdf['reference_dimensionless_spin2_mag'] < 0.4]\n",
    "len(fdf['common_horizon_time'])"
   ]
  },
  {
   "cell_type": "code",
   "execution_count": null,
   "id": "de0b2896",
   "metadata": {},
   "outputs": [],
   "source": [
    "mis_arr = []\n",
    "center_diff_arr_A = []\n",
    "center_diff_arr_B = []\n",
    "\n",
    "min_lev = 3  # Minimum level to consider for mismatch\n",
    "\n",
    "for filtered_key in fdf.index.to_list():\n",
    "    if filtered_key not in mis_dict:\n",
    "        print(f\"Key {filtered_key} not found in mismatch data, skipping.\")\n",
    "        continue\n",
    "    try:\n",
    "        mis_val, int_diff_A, int_diff_B = get_mismatch_and_center_diff(filtered_key, mis_dict, min_lev=min_lev)\n",
    "    except Exception as e:\n",
    "        print(f\"KeyError for {filtered_key}: {e}, skipping.\")\n",
    "        continue\n",
    "    print(f\"{filtered_key}: {mis_val}, {int_diff_A:.3e}, {int_diff_B:.3e}\")\n",
    "    mis_arr.append(mis_val)\n",
    "    center_diff_arr_A.append(int_diff_A)\n",
    "    center_diff_arr_B.append(int_diff_B)"
   ]
  },
  {
   "cell_type": "code",
   "execution_count": null,
   "id": "d2c1d848",
   "metadata": {},
   "outputs": [],
   "source": [
    "plt.scatter( center_diff_arr_A,mis_arr)\n",
    "plt.ylabel(\"Mismatch\")\n",
    "plt.xlabel(\"Center Diff (A)\")\n",
    "plt.yscale(\"log\")\n",
    "plt.xscale(\"log\")"
   ]
  },
  {
   "cell_type": "code",
   "execution_count": null,
   "id": "9c8e84d3",
   "metadata": {},
   "outputs": [],
   "source": [
    "plt.scatter( center_diff_arr_B,mis_arr)\n",
    "plt.yscale(\"log\")\n",
    "plt.xscale(\"log\")\n",
    "plt.ylabel(\"Mismatch\")\n",
    "plt.xlabel(\"Center Diff (B)\")"
   ]
  },
  {
   "cell_type": "code",
   "execution_count": null,
   "id": "f0fd5eba",
   "metadata": {},
   "outputs": [],
   "source": [
    "df.loc['SXS:BBH:4434'].to_dict()"
   ]
  }
 ],
 "metadata": {
  "kernelspec": {
   "display_name": "sxs",
   "language": "python",
   "name": "python3"
  },
  "language_info": {
   "codemirror_mode": {
    "name": "ipython",
    "version": 3
   },
   "file_extension": ".py",
   "mimetype": "text/x-python",
   "name": "python",
   "nbconvert_exporter": "python",
   "pygments_lexer": "ipython3",
   "version": "3.11.9"
  }
 },
 "nbformat": 4,
 "nbformat_minor": 5
}
