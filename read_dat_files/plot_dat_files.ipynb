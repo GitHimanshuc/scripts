{
 "cells": [
  {
   "cell_type": "code",
   "execution_count": 2,
   "metadata": {},
   "outputs": [],
   "source": [
    "import numpy as np\n",
    "import pandas as pd\n",
    "from numba import njit\n",
    "import matplotlib.pyplot as plt\n",
    "import os\n",
    "import glob\n",
    "plt.style.use('ggplot')\n",
    "plt.rcParams[\"figure.figsize\"] = (10,8)"
   ]
  },
  {
   "cell_type": "code",
   "execution_count": null,
   "metadata": {},
   "outputs": [],
   "source": [
    "file_name = '/groups/sxs/hchaudha/new_gauge_condition/runs/ab_mass_ratio_1_ns_dump_data/Ev/Lev1_AA/Run/TStepperDiag.dat'"
   ]
  },
  {
   "cell_type": "code",
   "execution_count": 4,
   "metadata": {},
   "outputs": [],
   "source": [
    "def read_dat_file(file_name):\n",
    "  cols_names = []\n",
    "\n",
    "  temp_file = \"./temp.csv\"\n",
    "  with open(file_name,'r') as f:\n",
    "    with open(temp_file,'w') as w:\n",
    "      lines = f.readlines()\n",
    "      for line in lines:\n",
    "        if(line[0] != '#'): # This is data\n",
    "          w.writelines(line)\n",
    "        if(line[0:3] == '# ['): # Some dat files have comments on the top\n",
    "          cols_names.append(line.split('=')[-1][1:-1].strip())\n",
    "\n",
    "\n",
    "  return pd.read_csv(temp_file,delim_whitespace=True,names=cols_names)"
   ]
  },
  {
   "cell_type": "code",
   "execution_count": null,
   "metadata": {},
   "outputs": [],
   "source": [
    "read_dat_file(file_name)"
   ]
  },
  {
   "cell_type": "markdown",
   "metadata": {},
   "source": [
    "# Plot a single dat file"
   ]
  },
  {
   "cell_type": "markdown",
   "metadata": {},
   "source": [
    "### Read dat file into a pandas object"
   ]
  },
  {
   "cell_type": "code",
   "execution_count": 37,
   "metadata": {},
   "outputs": [],
   "source": [
    "def read_dat_file(file_name):\n",
    "  cols_names = []\n",
    "\n",
    "  temp_file = \"./temp.csv\"\n",
    "  with open(file_name,'r') as f:\n",
    "    with open(temp_file,'w') as w:\n",
    "      lines = f.readlines()\n",
    "      for line in lines:\n",
    "        if(line[0] != '#'): # This is data\n",
    "          w.writelines(line)\n",
    "        if(line[0:3] == '# ['): # Some dat files have comments on the top\n",
    "          cols_names.append(line.split('=')[-1][1:-1].strip())\n",
    "\n",
    "\n",
    "  return pd.read_csv(temp_file,delim_whitespace=True,names=cols_names)\n",
    "\n",
    "def plot_and_save(data,x_arr,y_arr,file_location):\n",
    "  for x_axis,y_axis in zip(x_arr,y_arr):\n",
    "    plt.plot(data[x_axis],data[y_axis])\n",
    "    plt.xlabel(x_axis)\n",
    "    plt.ylabel(y_axis)\n",
    "    title = file_location.split(\"/\")[-1][:-4]+\" \\\"\"+y_axis+\"\\\" vs \\\"\"+x_axis+\"\\\"\"\n",
    "    plt.title(title)\n",
    "\n",
    "    plt.savefig(file_location[:-4]+\"_\\\"\"+y_axis+\"\\\"_vs_\\\"\"+x_axis+\"\\\"\")"
   ]
  },
  {
   "cell_type": "code",
   "execution_count": 39,
   "metadata": {},
   "outputs": [
    {
     "data": {
      "text/plain": [
       "Index(['time', 'Linf(GhCe) on SphereA0', 'Linf(GhCe) on SphereA1',\n",
       "       'Linf(GhCe) on SphereA2', 'Linf(GhCe) on SphereA3',\n",
       "       'Linf(GhCe) on SphereB0', 'Linf(GhCe) on SphereB1',\n",
       "       'Linf(GhCe) on SphereB2', 'Linf(GhCe) on SphereB3',\n",
       "       'Linf(GhCe) on SphereC0', 'Linf(GhCe) on SphereC1',\n",
       "       'Linf(GhCe) on SphereC2', 'Linf(GhCe) on SphereC3',\n",
       "       'Linf(GhCe) on SphereC4', 'Linf(GhCe) on SphereC5',\n",
       "       'Linf(GhCe) on SphereC6', 'Linf(GhCe) on SphereC7',\n",
       "       'Linf(GhCe) on SphereC8', 'Linf(GhCe) on SphereC9',\n",
       "       'Linf(GhCe) on SphereC10', 'Linf(GhCe) on SphereC11',\n",
       "       'Linf(GhCe) on SphereC12', 'Linf(GhCe) on SphereC13',\n",
       "       'Linf(GhCe) on SphereC14', 'Linf(GhCe) on SphereC15',\n",
       "       'Linf(GhCe) on SphereC16', 'Linf(GhCe) on SphereC17',\n",
       "       'Linf(GhCe) on SphereC18', 'Linf(GhCe) on SphereC19',\n",
       "       'Linf(GhCe) on SphereC20', 'Linf(GhCe) on SphereC21',\n",
       "       'Linf(GhCe) on SphereC22', 'Linf(GhCe) on SphereC23',\n",
       "       'Linf(GhCe) on SphereC24', 'Linf(GhCe) on SphereC25',\n",
       "       'Linf(GhCe) on SphereC26', 'Linf(GhCe) on SphereC27',\n",
       "       'Linf(GhCe) on SphereC28', 'Linf(GhCe) on SphereC29',\n",
       "       'Linf(GhCe) on SphereC30', 'Linf(GhCe) on SphereC31',\n",
       "       'Linf(GhCe) on SphereC32', 'Linf(GhCe) on SphereC33',\n",
       "       'Linf(GhCe) on SphereC34', 'Linf(GhCe) on CylinderEA0.0.0',\n",
       "       'Linf(GhCe) on CylinderEA1.0.0', 'Linf(GhCe) on CylinderCA0.0.0',\n",
       "       'Linf(GhCe) on CylinderCA1.0.0', 'Linf(GhCe) on CylinderEB0.0.0',\n",
       "       'Linf(GhCe) on CylinderEB1.0.0', 'Linf(GhCe) on CylinderCB0.0.0',\n",
       "       'Linf(GhCe) on CylinderCB1.0.0', 'Linf(GhCe) on FilledCylinderEA0',\n",
       "       'Linf(GhCe) on FilledCylinderEA1', 'Linf(GhCe) on FilledCylinderCA0',\n",
       "       'Linf(GhCe) on FilledCylinderCA1', 'Linf(GhCe) on FilledCylinderMA0',\n",
       "       'Linf(GhCe) on FilledCylinderMA1', 'Linf(GhCe) on CylinderSMA0.0',\n",
       "       'Linf(GhCe) on CylinderSMA1.0', 'Linf(GhCe) on FilledCylinderEB0',\n",
       "       'Linf(GhCe) on FilledCylinderEB1', 'Linf(GhCe) on FilledCylinderCB0',\n",
       "       'Linf(GhCe) on FilledCylinderCB1', 'Linf(GhCe) on FilledCylinderMB0',\n",
       "       'Linf(GhCe) on FilledCylinderMB1', 'Linf(GhCe) on CylinderSMB0.0',\n",
       "       'Linf(GhCe) on CylinderSMB1.0'],\n",
       "      dtype='object')"
      ]
     },
     "execution_count": 39,
     "metadata": {},
     "output_type": "execute_result"
    }
   ],
   "source": [
    "file_location = \"/panfs/ds09/sxs/himanshu/gauge_stuff/debug_gauge/runs_with_different_scale/corotating_50_50_0/Ev/Lev1_AA/Run/ConstraintNorms/GhCe_Linf.dat\"\n",
    "data = read_dat_file(file_location)\n",
    "data.columns"
   ]
  },
  {
   "cell_type": "code",
   "execution_count": 40,
   "metadata": {},
   "outputs": [
    {
     "data": {
      "image/png": "[encoded data removed]",
      "text/plain": [
       "<Figure size 720x576 with 1 Axes>"
      ]
     },
     "metadata": {},
     "output_type": "display_data"
    }
   ],
   "source": [
    "plot_and_save(data,['time'], ['Linf(GhCe) on SphereA0'],file_location)"
   ]
  },
  {
   "cell_type": "code",
   "execution_count": 34,
   "metadata": {},
   "outputs": [
    {
     "data": {
      "image/png": "[encoded data removed]",
      "text/plain": [
       "<Figure size 720x576 with 1 Axes>"
      ]
     },
     "metadata": {},
     "output_type": "display_data"
    }
   ],
   "source": [
    "x_axis = 'time after step'\n",
    "y_axis = 'dt'\n",
    "plt.plot(data[x_axis],data[y_axis])\n",
    "plt.xlabel(x_axis)\n",
    "plt.ylabel(y_axis)\n",
    "title = file_location.split(\"/\")[-1][:-4]+\" \\\"\"+y_axis+\"\\\" vs \\\"\"+x_axis+\"\\\"\"\n",
    "plt.title(title)\n",
    "\n",
    "plt.savefig(file_location[:-4]+\"_\\\"\"+y_axis+\"\\\"_vs_\\\"\"+x_axis+\"\\\"\")"
   ]
  },
  {
   "cell_type": "code",
   "execution_count": 29,
   "metadata": {},
   "outputs": [
    {
     "data": {
      "text/plain": [
       "['',\n",
       " 'panfs',\n",
       " 'ds09',\n",
       " 'sxs',\n",
       " 'himanshu',\n",
       " 'gauge_stuff',\n",
       " 'debug_gauge',\n",
       " 'runs_with_different_scale',\n",
       " 'corotating_50_50_0',\n",
       " 'Ev',\n",
       " 'Lev1_AA',\n",
       " 'Run']"
      ]
     },
     "execution_count": 29,
     "metadata": {},
     "output_type": "execute_result"
    }
   ],
   "source": [
    "file_location.split(\"/\")[:-1]"
   ]
  },
  {
   "cell_type": "markdown",
   "metadata": {},
   "source": [
    "## Find files"
   ]
  },
  {
   "cell_type": "code",
   "execution_count": null,
   "metadata": {},
   "outputs": [],
   "source": [
    "folder_path = \"/groups/sxs/hchaudha/new_gauge_condition/runs/ab_mr10_ns_dump_data_dH\"\n",
    "\n",
    "# # With ringdowns\n",
    "# lev_golb=folder_path+\"/Ev/Lev**\"\n",
    "\n",
    "# Without ringdowns\n",
    "lev_golb=folder_path+\"/Ev/Lev?_??\"\n",
    "\n",
    "dat_files_glob=lev_golb+\"/Run/**/**.dat\"\n",
    "\n"
   ]
  },
  {
   "cell_type": "code",
   "execution_count": null,
   "metadata": {},
   "outputs": [],
   "source": [
    "\n",
    "a = \"/groups/sxs/hchaudha/new_gauge_condition/runs/ng_mass_ratio_1_ns_dump_data/Ev/Lev1_AA/Run/GrAdjustSubChunksToDampingTimes.dat\"\n",
    "a[:46]+a[49:]"
   ]
  },
  {
   "cell_type": "code",
   "execution_count": null,
   "metadata": {},
   "outputs": [],
   "source": [
    "\n",
    "path_pattern = dat_files_glob\n",
    "ng_path_collection = []\n",
    "path_collection = []\n",
    "\n",
    "\n",
    "for folder_name in glob.iglob(path_pattern, recursive=True):\n",
    "    if os.path.isdir(folder_name) or os.path.isfile(folder_name):\n",
    "        ng_path_collection.append(folder_name)\n",
    "        path_collection.append(folder_name[:46]+folder_name[49:])\n",
    "        print(folder_name.split(\"/\")[-1])\n",
    "\n",
    "\n",
    "\n",
    "## Saves a plot for all the varibles in a dat file\n",
    "def plot_vars_from_a_dat_file(file_path,ng_file_path,save_folder=\"/groups/sxs/hchaudha/new_gauge_condition/plots/comparison_plots/\"):\n",
    "  print(\"Saved folder: \"+ save_folder)\n",
    "  corotating_data = read_dat_file(ng_file_path)\n",
    "  dh_gauge_data = read_dat_file(file_path)\n",
    "  col_names = dh_gauge_data.columns[1:]\n",
    "  for var in col_names:\n",
    "    plt.plot(corotating_data[dh_gauge_data.columns[0]],corotating_data[var],label='corotating_gauge')\n",
    "    plt.plot(dh_gauge_data[dh_gauge_data.columns[0]],dh_gauge_data[var],label='dh_gauge')\n",
    "    plt.legend()\n",
    "    plt.title(file_path.split(\"/\")[-1][:-3]+var)\n",
    "    save_file_name = file_path.split(\"/\")[-1][:-4]+\"__\"+var+\".png\"\n",
    "    save_file_name = save_file_name.replace(\"/\",\"_\") # Replace all the / in the file names as they will cause errors\n",
    "    plt.xlabel(\"Time(M)\")\n",
    "    plt.ylabel(var)\n",
    "    plt.savefig(save_folder+save_file_name)\n",
    "    plt.clf()\n",
    "    print(\"Saved: \"+file_path.split(\"/\")[-1][:-4]+\"__\"+var)\n",
    "\n",
    "\n"
   ]
  },
  {
   "cell_type": "code",
   "execution_count": null,
   "metadata": {},
   "outputs": [],
   "source": [
    "skip_files  = [\"MemoryInfo.dat\",\"TimeInfo.dat\"]\n",
    "for i in range(len(path_collection)):\n",
    "\n",
    "  if(path_collection[i].split(\"/\")[-1] in skip_files):\n",
    "    print(\"\\nSkipped: \", path_collection[i],\"\\n\")\n",
    "    continue\n",
    "  print(\"\\nSaving: \", path_collection[i],\"\\n\")\n",
    "  plot_vars_from_a_dat_file(path_collection[i],ng_path_collection[i])"
   ]
  },
  {
   "cell_type": "markdown",
   "metadata": {},
   "source": [
    "# Plot all the dat files for comparison"
   ]
  },
  {
   "cell_type": "code",
   "execution_count": null,
   "metadata": {},
   "outputs": [],
   "source": [
    "\n",
    "folder_path = \"/groups/sxs/hchaudha/new_gauge_condition/runs/ab_mr10_ns_dump_data_dH\"\n",
    "lev_golb=folder_path+\"/Ev/Lev1_AA\"\n",
    "dat_files_glob=lev_golb+\"/Run/**/**.dat\"\n",
    "path_pattern = dat_files_glob\n",
    "\n",
    "path_collection_1 = []\n",
    "for folder_name in glob.iglob(path_pattern, recursive=True):\n",
    "    if os.path.isdir(folder_name) or os.path.isfile(folder_name):\n",
    "        path_collection_1.append(folder_name)\n",
    "        print(folder_name.split(\"/\")[-1])\n",
    "\n",
    "\n",
    "folder_path = \"/groups/sxs/hchaudha/new_gauge_condition/runs/mass_ratio_10_non_spinning\"\n",
    "lev_golb=folder_path+\"/Ev/Lev1_AA\"\n",
    "dat_files_glob=lev_golb+\"/Run/**/**.dat\"\n",
    "path_pattern = dat_files_glob\n",
    "\n",
    "\n",
    "path_collection_2 = []\n",
    "for folder_name in glob.iglob(path_pattern, recursive=True):\n",
    "    if os.path.isdir(folder_name) or os.path.isfile(folder_name):\n",
    "        path_collection_2.append(folder_name)\n",
    "        print(folder_name.split(\"/\")[-1])\n",
    "\n",
    "\n",
    "## Saves a plot for all the varibles in a dat file\n",
    "def plot_vars_from_a_dat_file2(file_path,file_path_correct,save_folder=\"/groups/sxs/hchaudha/new_gauge_condition/plots/mr10_comparison_plot/\"):\n",
    "  print(\"Saved folder: \"+ save_folder)\n",
    "  correct_data = read_dat_file(file_path_correct)\n",
    "  wrong_data = read_dat_file(file_path)\n",
    "  col_names = wrong_data.columns[1:]\n",
    "  for var in col_names:\n",
    "    plt.plot(correct_data[wrong_data.columns[0]],correct_data[var],label='dh_gauge')\n",
    "    plt.plot(wrong_data[wrong_data.columns[0]],wrong_data[var],label='analytical_shift')\n",
    "    plt.legend()\n",
    "    plt.title(file_path.split(\"/\")[-1][:-3]+var)\n",
    "    save_file_name = file_path.split(\"/\")[-1][:-4]+\"__\"+var+\".png\"\n",
    "    save_file_name = save_file_name.replace(\"/\",\"_\") # Replace all the / in the file names as they will cause errors\n",
    "    plt.xlabel(\"Time(M)\")\n",
    "    plt.ylabel(var)\n",
    "    plt.savefig(save_folder+save_file_name)\n",
    "    plt.clf()\n",
    "    print(\"Saved: \"+file_path.split(\"/\")[-1][:-4]+\"__\"+var)\n"
   ]
  },
  {
   "cell_type": "code",
   "execution_count": null,
   "metadata": {},
   "outputs": [],
   "source": [
    "skip_files  = [\"MemoryInfo.dat\",\"TimeInfo.dat\"]\n",
    "for i in range(len(path_collection_1)):\n",
    "\n",
    "  if(path_collection_1[i].split(\"/\")[-1] in skip_files):\n",
    "    print(\"\\nSkipped: \", path_collection_1[i],\"\\n\")\n",
    "    continue\n",
    "  print(\"\\nSaving: \", path_collection_1[i],\"\\n\")\n",
    "  plot_vars_from_a_dat_file(path_collection_1[i],path_collection_2[i])"
   ]
  },
  {
   "cell_type": "code",
   "execution_count": null,
   "metadata": {},
   "outputs": [],
   "source": [
    "\"TStepperDiag__error/1e-08.png\".replace(\"/\",\"_\")"
   ]
  },
  {
   "cell_type": "code",
   "execution_count": null,
   "metadata": {},
   "outputs": [],
   "source": [
    "len(path_collection)"
   ]
  },
  {
   "cell_type": "markdown",
   "metadata": {},
   "source": [
    "### Dat file plots"
   ]
  },
  {
   "cell_type": "code",
   "execution_count": null,
   "metadata": {},
   "outputs": [],
   "source": [
    "ng_file_path=\"/groups/sxs/hchaudha/new_gauge_condition/runs/ng_mass_ratio_1_ns_dump_data/Ev/Lev1_AA/Run/DiagAhSpeedA.dat\"\n",
    "file_path=\"/groups/sxs/hchaudha/new_gauge_condition/runs/mass_ratio_1_ns_dump_data/Ev/Lev1_AA/Run/DiagAhSpeedA.dat\"\n",
    "\n",
    "time_step_data = read_dat_file(file_path)\n",
    "time_step_data.columns\n",
    "\n",
    "time_step_data_dh = read_dat_file(ng_file_path)\n",
    "time_step_data_dh.columns"
   ]
  },
  {
   "cell_type": "code",
   "execution_count": null,
   "metadata": {},
   "outputs": [],
   "source": [
    "var = 'MinDeltaR0'\n",
    "plt.plot(time_step_data['time'],time_step_data[var],label='corotating')\n",
    "plt.plot(time_step_data_dh['time'],time_step_data_dh[var],label='current_gauge')\n",
    "plt.legend()"
   ]
  },
  {
   "cell_type": "code",
   "execution_count": null,
   "metadata": {},
   "outputs": [],
   "source": [
    "var = 'L2(GhCe)'\n",
    "var = 'VolLp(GhCe)'\n",
    "# var = 'Linf(GhCe)'\n",
    "plt.plot(time_step_data['time '],time_step_data[var],label='corotating')\n",
    "plt.plot(time_step_data_dh['time '],time_step_data_dh[var],label='current_gauge')\n",
    "plt.legend()"
   ]
  },
  {
   "cell_type": "code",
   "execution_count": null,
   "metadata": {},
   "outputs": [],
   "source": [
    "file_path=\"/groups/sxs/hchaudha/new_gauge_condition/runs/ng_mass_ratio_1_ns_roll_off_500_dump_data/Ev/Lev1_AC/Run/TStepperDiag.dat\"\n",
    "\n",
    "time_step_data = read_dat_file(file_path)\n",
    "time_step_data.columns"
   ]
  },
  {
   "cell_type": "code",
   "execution_count": null,
   "metadata": {},
   "outputs": [],
   "source": [
    "plt.plot(time_step_data['time after step'],time_step_data['dt'])\n",
    "plt.xlabel('time after step')\n",
    "plt.ylabel('dt')\n",
    "plt.savefig(\"/groups/sxs/hchaudha/new_gauge_condition/analysis/report/ng_ms1_nr_roll_off500_lec3c.png\")"
   ]
  },
  {
   "cell_type": "code",
   "execution_count": null,
   "metadata": {},
   "outputs": [],
   "source": []
  },
  {
   "cell_type": "code",
   "execution_count": null,
   "metadata": {},
   "outputs": [],
   "source": [
    "AhA = read_dat_file(\"/groups/sxs/hchaudha/new_gauge_condition/runs/ng_mass_ratio_1_non_spinning/Ev/Lev1_AA/Run/ApparentHorizons/AhA.dat\")"
   ]
  },
  {
   "cell_type": "code",
   "execution_count": null,
   "metadata": {},
   "outputs": [],
   "source": [
    "root_folders = {\"/groups/sxs/hchaudha/new_gauge_condition/runs/ng_mass_ratio_10_non_spinning\",\n",
    "\"/groups/sxs/hchaudha/new_gauge_condition/runs/ng_mass_ratio_1_non_spinning\",\n",
    "\"/groups/sxs/hchaudha/new_gauge_condition/runs/ng_mass_ratio_1_non_spinning_new\",\n",
    "\"/groups/sxs/hchaudha/new_gauge_condition/runs/ng_mass_ratio_1_one_high_spinning_correct\"}\n"
   ]
  },
  {
   "cell_type": "code",
   "execution_count": null,
   "metadata": {},
   "outputs": [],
   "source": [
    "ng_mr_10_non_spinning = read_dat_file(\"/groups/sxs/hchaudha/new_gauge_condition/runs/ng_mass_ratio_10_non_spinning/Ev/Lev3_AA/Run/ConstraintNorms/GhCeExt_L2.dat\")\n",
    "ng_mr_1_non_spinning = read_dat_file(\"/groups/sxs/hchaudha/new_gauge_condition/runs/ng_mass_ratio_1_non_spinning/Ev/Lev3_AA/Run/ConstraintNorms/GhCeExt_L2.dat\")\n",
    "ng_mr_1_one_high_spinning_correct = read_dat_file(\"/groups/sxs/hchaudha/new_gauge_condition/runs/ng_mass_ratio_1_one_high_spinning_correct/Ev/Lev3_AA/Run/ConstraintNorms/GhCeExt_L2.dat\")"
   ]
  },
  {
   "cell_type": "code",
   "execution_count": null,
   "metadata": {},
   "outputs": [],
   "source": [
    "mr_10_non_spinning = read_dat_file(\"/groups/sxs/hchaudha/new_gauge_condition/runs/mass_ratio_10_non_spinning/Ev/Lev3_AA/Run/ConstraintNorms/GhCeExt_L2.dat\")\n",
    "mr_1_non_spinning = read_dat_file(\"/groups/sxs/hchaudha/new_gauge_condition/runs/mass_ratio_1_non_spinning/Ev/Lev3_AA/Run/ConstraintNorms/GhCeExt_L2.dat\")\n",
    "mr_1_one_high_spinning_correct = read_dat_file(\"/groups/sxs/hchaudha/new_gauge_condition/runs/mass_ratio_1_one_high_spinning_correct/Ev/Lev3_AA/Run/ConstraintNorms/GhCeExt_L2.dat\")"
   ]
  },
  {
   "cell_type": "code",
   "execution_count": null,
   "metadata": {},
   "outputs": [],
   "source": [
    "ng_runs = [ng_mr_10_non_spinning,ng_mr_1_non_spinning,ng_mr_1_one_high_spinning_correct]\n",
    "ng_runs = [ng_mr_1_non_spinning]\n",
    "og_runs = [mr_1_non_spinning,mr_1_one_high_spinning_correct]\n",
    "og_runs = [mr_1_one_high_spinning_correct]\n",
    "combined = ng_runs + og_runs\n",
    "# ng_mr_1_non_spinning.columns"
   ]
  },
  {
   "cell_type": "code",
   "execution_count": null,
   "metadata": {},
   "outputs": [],
   "source": [
    "final_time = 200\n",
    "for datasets in combined:\n",
    "  plt.plot(datasets['time '][:final_time],datasets['L2(GhCeExt) on SphereB0'][:final_time])\n",
    "\n",
    "plt.title(\"'L2(GhCeExt) on SphereB0'\")\n",
    "plt.legend([\"ng_mr1\",\"mr1\"])\n",
    "plt.xlabel(\"Time\")\n",
    "plt.ylabel(\"'L2(GhCeExt) on SphereB0'\")\n",
    "plt.savefig(\"/groups/sxs/hchaudha/new_gauge_condition/analysis/report/L2(GhCeExt) on SphereB0_lev_3.png\")"
   ]
  },
  {
   "cell_type": "code",
   "execution_count": null,
   "metadata": {},
   "outputs": [],
   "source": [
    "final_time = 2000\n",
    "for datasets in og_runs:\n",
    "  plt.plot(datasets['time after step'][:final_time],datasets['dt'][:final_time])\n",
    "\n",
    "plt.legend([\"mr10\",\"mr1\",\"mr1_hs\"])\n",
    "plt.xlabel(\"Time\")\n",
    "plt.ylabel(\"dt\")\n",
    "plt.savefig(\"/groups/sxs/hchaudha/new_gauge_condition/analysis/report/current_gauge_dt_vs_T.png\")"
   ]
  },
  {
   "cell_type": "code",
   "execution_count": null,
   "metadata": {},
   "outputs": [],
   "source": [
    "ng_runs_lev2 = [read_dat_file(\"/groups/sxs/hchaudha/new_gauge_condition/runs/ng_mass_ratio_10_non_spinning/Ev/Lev2_AA/Run/TStepperDiag.dat\"),\n",
    "                read_dat_file(\"/groups/sxs/hchaudha/new_gauge_condition/runs/ng_mass_ratio_1_non_spinning/Ev/Lev2_AA/Run/TStepperDiag.dat\"),\n",
    "                read_dat_file(\"/groups/sxs/hchaudha/new_gauge_condition/runs/ng_mass_ratio_1_one_high_spinning_correct/Ev/Lev2_AA/Run/TStepperDiag.dat\")]\n",
    "ng_runs_lev3 = [read_dat_file(\"/groups/sxs/hchaudha/new_gauge_condition/runs/ng_mass_ratio_10_non_spinning/Ev/Lev3_AA/Run/TStepperDiag.dat\"),\n",
    "                read_dat_file(\"/groups/sxs/hchaudha/new_gauge_condition/runs/ng_mass_ratio_1_non_spinning/Ev/Lev3_AA/Run/TStepperDiag.dat\"),\n",
    "                read_dat_file(\"/groups/sxs/hchaudha/new_gauge_condition/runs/ng_mass_ratio_1_one_high_spinning_correct/Ev/Lev3_AA/Run/TStepperDiag.dat\")]"
   ]
  },
  {
   "cell_type": "code",
   "execution_count": null,
   "metadata": {},
   "outputs": [],
   "source": [
    "for datasets in ng_runs_lev2:\n",
    "  plt.plot(datasets['time after step'],datasets['dt'])\n",
    "\n",
    "plt.title(\"NG Lev2\")\n",
    "plt.legend([\"ng_mr10\",\"ng_mr1\",\"ng_mr1_hs\"])\n",
    "plt.xlabel(\"Time\")\n",
    "plt.ylabel(\"dt\")\n",
    "plt.savefig(\"/groups/sxs/hchaudha/new_gauge_condition/analysis/report/rot_frame_beta_gauge_lev2_dt_vs_T.png\")"
   ]
  },
  {
   "cell_type": "code",
   "execution_count": null,
   "metadata": {},
   "outputs": [],
   "source": [
    "for datasets in ng_runs_lev3:\n",
    "  plt.plot(datasets['time after step'],datasets['dt'])\n",
    "\n",
    "plt.title(\"NG Lev3\")\n",
    "plt.legend([\"ng_mr10\",\"ng_mr1\",\"ng_mr1_hs\"])\n",
    "plt.xlabel(\"Time\")\n",
    "plt.ylabel(\"dt\")\n",
    "plt.savefig(\"/groups/sxs/hchaudha/new_gauge_condition/analysis/report/rot_frame_beta_gauge_lev3_dt_vs_T.png\")"
   ]
  },
  {
   "cell_type": "markdown",
   "metadata": {},
   "source": [
    "## Read hist files"
   ]
  },
  {
   "cell_type": "code",
   "execution_count": null,
   "metadata": {},
   "outputs": [],
   "source": [
    "\n",
    "def list_to_csv(list):\n",
    "  csv_line = \"\"\n",
    "  for i in list:\n",
    "    csv_line = csv_line + i + \",\"\n",
    "  return csv_line[:-2]+\"\\n\"\n",
    "\n",
    "def extract_data(line):\n",
    "  data = []\n",
    "  col_elements = line.split(\";\")[:-1]\n",
    "  for i in col_elements:\n",
    "    data.append(i.split(\"=\")[1])\n",
    "  return data\n",
    "\n",
    "def col_names(first_line):\n",
    "  col_name_list = []\n",
    "  col_elements = first_line.split(\";\")[:-1]\n",
    "  for i in col_elements:\n",
    "    col_name_list.append(i.split(\"=\")[0].strip())\n",
    "  return col_name_list\n",
    "\n",
    "def read_hist_file(file_name):\n",
    "  cols_names = []\n",
    "  temp_file = file_name[:-3]+\"csv\"\n",
    "  with open(file_name,'r') as f:\n",
    "    with open(temp_file,'w') as w:\n",
    "      lines = f.readlines()\n",
    "      # Write the column names\n",
    "      cols_names = col_names(lines[0])\n",
    "      w.writelines(list_to_csv(cols_names))\n",
    "\n",
    "      for line in lines:\n",
    "        w.writelines(list_to_csv(extract_data(line)))\n",
    "\n",
    "  return pd.read_csv(temp_file,delimiter=',')\n"
   ]
  },
  {
   "cell_type": "code",
   "execution_count": null,
   "metadata": {},
   "outputs": [],
   "source": [
    "file_name = \"/groups/sxs/hchaudha/new_gauge_condition/runs/ng_mass_ratio_1_non_spinning/Ev/Lev1_AA/Run/Hist-FuncQuatRotMatrix.txt\"\n",
    "quat_rot_mat_data=read_hist_file(file_name)\n",
    "quat_rot_mat_data"
   ]
  },
  {
   "cell_type": "code",
   "execution_count": null,
   "metadata": {},
   "outputs": [],
   "source": [
    "quat_rot_mat_data.plot('t',['Quat3','Quat2'])"
   ]
  },
  {
   "cell_type": "code",
   "execution_count": null,
   "metadata": {},
   "outputs": [],
   "source": [
    "quat_rot_mat_data.columns"
   ]
  },
  {
   "cell_type": "code",
   "execution_count": null,
   "metadata": {},
   "outputs": [],
   "source": []
  }
 ],
 "metadata": {
  "interpreter": {
   "hash": "009adc1c8ee1f76b2251d0bb13ed6e10d4fef5bd0a6f7d195d9f2892e5880fe6"
  },
  "kernelspec": {
   "display_name": "Python 3.9.7 64-bit ('sxs': conda)",
   "language": "python",
   "name": "python3"
  },
  "language_info": {
   "codemirror_mode": {
    "name": "ipython",
    "version": 3
   },
   "file_extension": ".py",
   "mimetype": "text/x-python",
   "name": "python",
   "nbconvert_exporter": "python",
   "pygments_lexer": "ipython3",
   "version": "3.9.7"
  }
 },
 "nbformat": 4,
 "nbformat_minor": 2
}
