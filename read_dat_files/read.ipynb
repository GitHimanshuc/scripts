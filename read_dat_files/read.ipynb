{
 "cells": [
  {
   "cell_type": "code",
   "execution_count": null,
   "metadata": {},
   "outputs": [],
   "source": [
    "import numpy as np\n",
    "import pandas as pd\n",
    "from numba import njit\n",
    "import matplotlib.pyplot as plt\n",
    "plt.style.use('ggplot')\n",
    "plt.rcParams[\"figure.figsize\"] = (10,8)"
   ]
  },
  {
   "cell_type": "code",
   "execution_count": null,
   "metadata": {},
   "outputs": [],
   "source": [
    "file_name = '/groups/sxs/hchaudha/new_gauge_condition/runs/ng_mass_ratio_1_non_spinning/Ev/Lev1_AA/Run/TStepperDiag.dat'"
   ]
  },
  {
   "cell_type": "code",
   "execution_count": null,
   "metadata": {},
   "outputs": [],
   "source": [
    "def read_dat_file(file_name):\n",
    "  cols_names = []\n",
    "\n",
    "  temp_file = \"./temp.csv\"\n",
    "  with open(file_name,'r') as f:\n",
    "    with open(temp_file,'w') as w:\n",
    "      lines = f.readlines()\n",
    "      for line in lines:\n",
    "        if(line[0] != '#'): # This is data\n",
    "          w.writelines(line)\n",
    "        if(line[0:3] == '# ['): # Some dat files have comments on the top\n",
    "          cols_names.append(line.split('=')[-1][1:-1])\n",
    "\n",
    "\n",
    "  return pd.read_csv(temp_file,delim_whitespace=True,names=cols_names)"
   ]
  },
  {
   "cell_type": "code",
   "execution_count": null,
   "metadata": {},
   "outputs": [],
   "source": [
    "read_dat_file(file_name)"
   ]
  },
  {
   "cell_type": "code",
   "execution_count": null,
   "metadata": {},
   "outputs": [],
   "source": [
    "time_step_data = read_dat_file(file_name)"
   ]
  },
  {
   "cell_type": "code",
   "execution_count": null,
   "metadata": {},
   "outputs": [],
   "source": [
    "time_step_data.plot('time after step','dt')"
   ]
  },
  {
   "cell_type": "code",
   "execution_count": null,
   "metadata": {},
   "outputs": [],
   "source": [
    "AhA = read_dat_file(\"/groups/sxs/hchaudha/new_gauge_condition/runs/ng_mass_ratio_1_non_spinning/Ev/Lev1_AA/Run/ApparentHorizons/AhA.dat\")"
   ]
  },
  {
   "cell_type": "code",
   "execution_count": null,
   "metadata": {},
   "outputs": [],
   "source": [
    "root_folders = {\"/groups/sxs/hchaudha/new_gauge_condition/runs/ng_mass_ratio_10_non_spinning\",\n",
    "\"/groups/sxs/hchaudha/new_gauge_condition/runs/ng_mass_ratio_1_non_spinning\",\n",
    "\"/groups/sxs/hchaudha/new_gauge_condition/runs/ng_mass_ratio_1_non_spinning_new\",\n",
    "\"/groups/sxs/hchaudha/new_gauge_condition/runs/ng_mass_ratio_1_one_high_spinning_correct\"}\n"
   ]
  },
  {
   "cell_type": "code",
   "execution_count": null,
   "metadata": {},
   "outputs": [],
   "source": [
    "ng_mr_10_non_spinning = read_dat_file(\"/groups/sxs/hchaudha/new_gauge_condition/runs/ng_mass_ratio_10_non_spinning/Ev/Lev1_AA/Run/TStepperDiag.dat\")\n",
    "ng_mr_1_non_spinning = read_dat_file(\"/groups/sxs/hchaudha/new_gauge_condition/runs/ng_mass_ratio_1_non_spinning/Ev/Lev1_AA/Run/TStepperDiag.dat\")\n",
    "ng_mr_1_one_high_spinning_correct = read_dat_file(\"/groups/sxs/hchaudha/new_gauge_condition/runs/ng_mass_ratio_1_one_high_spinning_correct/Ev/Lev1_AA/Run/TStepperDiag.dat\")"
   ]
  },
  {
   "cell_type": "code",
   "execution_count": null,
   "metadata": {},
   "outputs": [],
   "source": [
    "mr_10_non_spinning = read_dat_file(\"/groups/sxs/hchaudha/new_gauge_condition/runs/mass_ratio_10_non_spinning/Ev/Lev1_AA/Run/TStepperDiag.dat\")\n",
    "mr_1_non_spinning = read_dat_file(\"/groups/sxs/hchaudha/new_gauge_condition/runs/mass_ratio_1_non_spinning/Ev/Lev1_AA/Run/TStepperDiag.dat\")\n",
    "mr_1_one_high_spinning_correct = read_dat_file(\"/groups/sxs/hchaudha/new_gauge_condition/runs/mass_ratio_1_one_high_spinning_correct/Ev/Lev1_AA/Run/TStepperDiag.dat\")"
   ]
  },
  {
   "cell_type": "code",
   "execution_count": null,
   "metadata": {},
   "outputs": [],
   "source": [
    "ng_runs = [ng_mr_10_non_spinning,ng_mr_1_non_spinning,ng_mr_1_one_high_spinning_correct]\n",
    "og_runs = [mr_10_non_spinning,mr_1_non_spinning,mr_1_one_high_spinning_correct]"
   ]
  },
  {
   "cell_type": "code",
   "execution_count": null,
   "metadata": {},
   "outputs": [],
   "source": [
    "for datasets in ng_runs:\n",
    "  plt.plot(datasets['time after step'],datasets['dt'])\n",
    "\n",
    "plt.title(\"NG Lev1\")\n",
    "plt.legend([\"ng_mr10\",\"ng_mr1\",\"ng_mr1_hs\"])\n",
    "plt.xlabel(\"Time\")\n",
    "plt.ylabel(\"dt\")\n",
    "plt.savefig(\"/groups/sxs/hchaudha/new_gauge_condition/analysis/report/rot_frame_beta_gauge_lev1_dt_vs_T.png\")"
   ]
  },
  {
   "cell_type": "code",
   "execution_count": null,
   "metadata": {},
   "outputs": [],
   "source": [
    "final_time = 2000\n",
    "for datasets in og_runs:\n",
    "  plt.plot(datasets['time after step'][:final_time],datasets['dt'][:final_time])\n",
    "\n",
    "plt.legend([\"mr10\",\"mr1\",\"mr1_hs\"])\n",
    "plt.xlabel(\"Time\")\n",
    "plt.ylabel(\"dt\")\n",
    "plt.savefig(\"/groups/sxs/hchaudha/new_gauge_condition/analysis/report/current_gauge_dt_vs_T.png\")"
   ]
  },
  {
   "cell_type": "code",
   "execution_count": null,
   "metadata": {},
   "outputs": [],
   "source": [
    "ng_runs_lev2 = [read_dat_file(\"/groups/sxs/hchaudha/new_gauge_condition/runs/ng_mass_ratio_10_non_spinning/Ev/Lev2_AA/Run/TStepperDiag.dat\"),\n",
    "                read_dat_file(\"/groups/sxs/hchaudha/new_gauge_condition/runs/ng_mass_ratio_1_non_spinning/Ev/Lev2_AA/Run/TStepperDiag.dat\"),\n",
    "                read_dat_file(\"/groups/sxs/hchaudha/new_gauge_condition/runs/ng_mass_ratio_1_one_high_spinning_correct/Ev/Lev2_AA/Run/TStepperDiag.dat\")]\n",
    "ng_runs_lev3 = [read_dat_file(\"/groups/sxs/hchaudha/new_gauge_condition/runs/ng_mass_ratio_10_non_spinning/Ev/Lev3_AA/Run/TStepperDiag.dat\"),\n",
    "                read_dat_file(\"/groups/sxs/hchaudha/new_gauge_condition/runs/ng_mass_ratio_1_non_spinning/Ev/Lev3_AA/Run/TStepperDiag.dat\"),\n",
    "                read_dat_file(\"/groups/sxs/hchaudha/new_gauge_condition/runs/ng_mass_ratio_1_one_high_spinning_correct/Ev/Lev3_AA/Run/TStepperDiag.dat\")]"
   ]
  },
  {
   "cell_type": "code",
   "execution_count": null,
   "metadata": {},
   "outputs": [],
   "source": [
    "for datasets in ng_runs_lev2:\n",
    "  plt.plot(datasets['time after step'],datasets['dt'])\n",
    "\n",
    "plt.title(\"NG Lev2\")\n",
    "plt.legend([\"ng_mr10\",\"ng_mr1\",\"ng_mr1_hs\"])\n",
    "plt.xlabel(\"Time\")\n",
    "plt.ylabel(\"dt\")\n",
    "plt.savefig(\"/groups/sxs/hchaudha/new_gauge_condition/analysis/report/rot_frame_beta_gauge_lev2_dt_vs_T.png\")"
   ]
  },
  {
   "cell_type": "code",
   "execution_count": null,
   "metadata": {},
   "outputs": [],
   "source": [
    "for datasets in ng_runs_lev3:\n",
    "  plt.plot(datasets['time after step'],datasets['dt'])\n",
    "\n",
    "plt.title(\"NG Lev3\")\n",
    "plt.legend([\"ng_mr10\",\"ng_mr1\",\"ng_mr1_hs\"])\n",
    "plt.xlabel(\"Time\")\n",
    "plt.ylabel(\"dt\")\n",
    "plt.savefig(\"/groups/sxs/hchaudha/new_gauge_condition/analysis/report/rot_frame_beta_gauge_lev3_dt_vs_T.png\")"
   ]
  },
  {
   "cell_type": "markdown",
   "metadata": {},
   "source": [
    "## Read hist files"
   ]
  },
  {
   "cell_type": "code",
   "execution_count": null,
   "metadata": {},
   "outputs": [],
   "source": [
    "\n",
    "def list_to_csv(list):\n",
    "  csv_line = \"\"\n",
    "  for i in list:\n",
    "    csv_line = csv_line + i + \", \"\n",
    "  return csv_line[:-2]+\"\\n\"\n",
    "\n",
    "def extract_data(line):\n",
    "  data = []\n",
    "  col_elements = line.split(\";\")[:-1]\n",
    "  for i in col_elements:\n",
    "    data.append(i.split(\"=\")[1])\n",
    "  return data\n",
    "\n",
    "def col_names(first_line):\n",
    "  col_name_list = []\n",
    "  col_elements = first_line.split(\";\")[:-1]\n",
    "  for i in col_elements:\n",
    "    col_name_list.append(i.split(\"=\")[0])\n",
    "  return col_name_list\n",
    "\n",
    "def read_hist_file(file_name):\n",
    "  cols_names = []\n",
    "  temp_file = file_name[:-3]+\"csv\"\n",
    "  with open(file_name,'r') as f:\n",
    "    with open(temp_file,'w') as w:\n",
    "      lines = f.readlines()\n",
    "      # Write the column names\n",
    "      cols_names = col_names(lines[0])\n",
    "      w.writelines(list_to_csv(cols_names))\n",
    "\n",
    "      for line in lines:\n",
    "        w.writelines(list_to_csv(extract_data(line)))\n",
    "\n",
    "  return pd.read_csv(temp_file,delimiter=',')\n"
   ]
  },
  {
   "cell_type": "code",
   "execution_count": null,
   "metadata": {},
   "outputs": [],
   "source": [
    "file_name = \"/groups/sxs/hchaudha/new_gauge_condition/runs/ng_mass_ratio_1_non_spinning/Ev/Lev1_AC/Run/Hist-FuncSmoothMinDeltaRNoLam00AhA.txt\"\n",
    "read_hist_file(file_name)"
   ]
  }
 ],
 "metadata": {
  "interpreter": {
   "hash": "009adc1c8ee1f76b2251d0bb13ed6e10d4fef5bd0a6f7d195d9f2892e5880fe6"
  },
  "kernelspec": {
   "display_name": "Python 3.9.7 64-bit ('sxs': conda)",
   "language": "python",
   "name": "python3"
  },
  "language_info": {
   "codemirror_mode": {
    "name": "ipython",
    "version": 3
   },
   "file_extension": ".py",
   "mimetype": "text/x-python",
   "name": "python",
   "nbconvert_exporter": "python",
   "pygments_lexer": "ipython3",
   "version": "3.9.7"
  }
 },
 "nbformat": 4,
 "nbformat_minor": 2
}
