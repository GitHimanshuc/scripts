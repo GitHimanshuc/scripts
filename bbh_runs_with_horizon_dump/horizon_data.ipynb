{
 "cells": [
  {
   "cell_type": "code",
   "execution_count": null,
   "id": "0",
   "metadata": {},
   "outputs": [],
   "source": [
    "import numpy as np\n",
    "import matplotlib.pyplot as plt\n",
    "import pandas as pd\n",
    "import corner\n",
    "import qgrid\n",
    "import datetime\n",
    "from tqdm import tqdm\n",
    "import sxs\n",
    "\n",
    "catalog = sxs.load(\"catalog\")"
   ]
  },
  {
   "cell_type": "code",
   "execution_count": null,
   "id": "1",
   "metadata": {},
   "outputs": [],
   "source": [
    "data = catalog.simulations_dataframe"
   ]
  },
  {
   "cell_type": "code",
   "execution_count": null,
   "id": "2",
   "metadata": {},
   "outputs": [],
   "source": [
    "bh_sim_names = data[data[\"object_types\"]==\"BHBH\"].index"
   ]
  },
  {
   "cell_type": "code",
   "execution_count": null,
   "id": "3",
   "metadata": {},
   "outputs": [],
   "source": [
    "# Stores all complete paths of the available horizondump bbh data\n",
    "bbh_that_have_horizon_dump = []\n",
    "for i in tqdm(range(len(bh_sim_names))):\n",
    "    name = bh_sim_names[i]\n",
    "    location = catalog.select(f\"{name}v./Lev/HorizonsDump\")\n",
    "    if location:\n",
    "        bbh_that_have_horizon_dump.append(location)"
   ]
  },
  {
   "cell_type": "code",
   "execution_count": null,
   "id": "4",
   "metadata": {},
   "outputs": [],
   "source": [
    "# Extracts the paths with the highest version for a given simulation\n",
    "horizon_paths = []\n",
    "for i in range(len(bbh_that_have_horizon_dump)):\n",
    "    horizon_paths.append(bbh_that_have_horizon_dump[i][-1])\n",
    "\n",
    "    \n",
    "# Saves it to a file\n",
    "data_time_now = datetime.datetime.now().strftime('%Y%m%d%H%M%S')\n",
    "file_name = f'./data/simulations_with_horizonsdump_{data_time_now}.txt'\n",
    "with open(file_name,'w') as file:\n",
    "    file.write(\"BBH,BBH_v_lev,full_path\\n\")\n",
    "    for i in horizon_paths:\n",
    "        name = i.split(\"v\")[0]\n",
    "        name_with_lev = i.split(\"/H\")[0]\n",
    "        file.write(f\"{name},{name_with_lev},{i}\\n\")\n",
    "            "
   ]
  },
  {
   "cell_type": "code",
   "execution_count": null,
   "id": "5",
   "metadata": {},
   "outputs": [],
   "source": [
    "# required = pd.read_csv(file_name)\n",
    "required = pd.read_csv(\"/panfs/ds09/sxs/himanshu/gauge_stuff/bbh_runs_with_horizon_dump/data/simulations_with_horizonsdump_20220104004711.txt\")"
   ]
  },
  {
   "cell_type": "code",
   "execution_count": null,
   "id": "6",
   "metadata": {},
   "outputs": [],
   "source": [
    "dataframe = catalog.table"
   ]
  },
  {
   "cell_type": "code",
   "execution_count": null,
   "id": "7",
   "metadata": {},
   "outputs": [],
   "source": [
    "all_info_dataframe = dataframe.loc[required.BBH]"
   ]
  },
  {
   "cell_type": "code",
   "execution_count": null,
   "id": "8",
   "metadata": {},
   "outputs": [],
   "source": [
    "all_info_dataframe.columns"
   ]
  },
  {
   "cell_type": "code",
   "execution_count": null,
   "id": "9",
   "metadata": {},
   "outputs": [],
   "source": [
    "all_info_dataframe = all_info_dataframe.select_dtypes(include=[np.float64]).fillna(3.1415).sort_values(by=['initial_mass_ratio'],ascending=False)\n",
    "all_info_dataframe"
   ]
  },
  {
   "cell_type": "code",
   "execution_count": null,
   "id": "10",
   "metadata": {},
   "outputs": [],
   "source": [
    "all_info_dataframe.head(1)"
   ]
  },
  {
   "cell_type": "code",
   "execution_count": null,
   "id": "11",
   "metadata": {},
   "outputs": [],
   "source": [
    "horizonsdump_test = sxs.load(\"SXS:BBH:1107v2/Lev4/HorizonsDump.h5\")"
   ]
  },
  {
   "cell_type": "code",
   "execution_count": null,
   "id": "12",
   "metadata": {},
   "outputs": [],
   "source": [
    "=="
   ]
  },
  {
   "cell_type": "code",
   "execution_count": null,
   "id": "13",
   "metadata": {},
   "outputs": [],
   "source": []
  }
 ],
 "metadata": {
  "kernelspec": {
   "display_name": "Python 3 (ipykernel)",
   "language": "python",
   "name": "python3"
  },
  "language_info": {
   "codemirror_mode": {
    "name": "ipython",
    "version": 3
   },
   "file_extension": ".py",
   "mimetype": "text/x-python",
   "name": "python",
   "nbconvert_exporter": "python",
   "pygments_lexer": "ipython3",
   "version": "3.10.10"
  }
 },
 "nbformat": 4,
 "nbformat_minor": 5
}
