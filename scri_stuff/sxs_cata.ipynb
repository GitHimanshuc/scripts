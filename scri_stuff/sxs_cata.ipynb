{
 "cells": [
  {
   "cell_type": "code",
   "execution_count": null,
   "metadata": {},
   "outputs": [],
   "source": [
    "import numpy as np\n",
    "import matplotlib.pyplot as plt\n",
    "import pandas as pd\n",
    "import sxs\n",
    "import scri\n",
    "from pathlib import Path\n",
    "import urllib.request\n",
    "import json\n",
    "import sys\n",
    "import subprocess\n",
    "\n",
    "plt.style.use('seaborn-talk')\n",
    "plt.rcParams[\"figure.figsize\"] = (12, 10)\n",
    "\n",
    "bbh_ext_folder = Path(\"/panfs/ds09/sxs/himanshu/cache/sxs_ext\")\n"
   ]
  },
  {
   "attachments": {},
   "cell_type": "markdown",
   "metadata": {},
   "source": [
    "## Code to download files for abd from bbh_ext catalog"
   ]
  },
  {
   "cell_type": "code",
   "execution_count": null,
   "metadata": {},
   "outputs": [],
   "source": [
    "\"\"\"\n",
    "input: https://zenodo.org/record/4734836/files/Lev5/r3Psi2OverM_BondiCce_R0513_CoM.h5?download=1\n",
    "output: links of all files with same radius and Lev that are required to make a abd\n",
    "\"\"\"\n",
    "def get_info_from_file_link(link:str):\n",
    "  zonedo_link = f'https://zenodo.org/record/{link.split(\"/\")[4]}'\n",
    "  Lev = link.split(\"/\")[-2]\n",
    "  Radius = link.split(\"/\")[-1].split(\"_\")[2][1:]\n",
    "\n",
    "  data_list = [\"rhOverM\",\"rMPsi4\",\"r2Psi3\",\"r3Psi2OverM\",\"r4Psi1OverM2\",\"r5Psi0OverM3\"]\n",
    "  download_links = [f\"{zonedo_link}/files/{Lev}/{data_file}_BondiCce_R{Radius}_CoM.h5\" for data_file in data_list]\n",
    "  download_links_json = [f\"{zonedo_link}/files/{Lev}/{data_file}_BondiCce_R{Radius}_CoM.json\" for data_file in data_list]\n",
    "\n",
    "  link_dict = {\n",
    "    \"metadata\": f\"{zonedo_link}/files/{Lev}/metadata.json\"\n",
    "  }\n",
    "  for i,data_name in enumerate(data_list):\n",
    "    link_dict[data_name] = download_links[i]\n",
    "    link_dict[data_name+\"_json\"] = download_links_json[i]\n",
    "\n",
    "  return link_dict\n",
    "\n",
    "\n",
    "\"\"\"\n",
    "input: https://zenodo.org/record/4734836/files/Lev5/r3Psi2OverM_BondiCce_R0513_CoM.h5?download=1\n",
    "output: download files with same radius and Lev that are required to make a abd.\n",
    "Returns the download folder path\n",
    "\"\"\"\n",
    "def create_folder_and_save_data(link:str):\n",
    "    link_dict = get_info_from_file_link(link)\n",
    "    # save metadata file and use it to get the folder name\n",
    "    url = link_dict['metadata']\n",
    "    response = urllib.request.urlopen(url)\n",
    "    data = response.read().decode('utf-8')     # a `bytes` object\n",
    "\n",
    "    temp_json_metadata_file = bbh_ext_folder/\"del.json\"\n",
    "    with temp_json_metadata_file.open(\"w\") as f:\n",
    "        f.write(data)\n",
    "\n",
    "    with temp_json_metadata_file.open('r') as f:\n",
    "        metadata = json.load(f)\n",
    "\n",
    "    # bbh_ext_folder is a global variable\n",
    "    save_folder_name:Path = bbh_ext_folder/metadata['simulation_name']\n",
    "\n",
    "    # Make sure the folder does not exists\n",
    "    if save_folder_name.exists():\n",
    "        sys.exit(f\"{save_folder_name} already exists.\")\n",
    "\n",
    "    save_folder_name.mkdir(parents=True,exist_ok=False)\n",
    "\n",
    "    for key in link_dict.keys():\n",
    "        download_command = f\"cd {save_folder_name} && wget {link_dict[key]}\"\n",
    "        status = subprocess.run(download_command,\n",
    "                                capture_output=True,\n",
    "                                shell=True,\n",
    "                                text=True)\n",
    "        if status.returncode == 0:  \n",
    "            print(f'Succesfully downloaded {link_dict[key].split(\"/\")[-1]} in {save_folder_name}' )\n",
    "        else:\n",
    "            sys.exit(\n",
    "                f\"Failed to download {link_dict[key]}\"\n",
    "            )\n",
    "\n",
    "    return save_folder_name\n",
    "\n",
    "# Given a folder finds all .h5 files in it\n",
    "def path_dict_in_folder(data_path:Path):\n",
    "    path_dict = {}\n",
    "    for file_path in list(data_path.glob(\"*.h5\")):\n",
    "        path_dict[str(file_path).split(\"/\")[-1].split(\"_\")[0]] = file_path\n",
    "\n",
    "    return path_dict\n",
    "\n",
    "  "
   ]
  },
  {
   "cell_type": "code",
   "execution_count": null,
   "metadata": {},
   "outputs": [],
   "source": [
    "link_dict = get_info_from_file_link(link)"
   ]
  },
  {
   "attachments": {},
   "cell_type": "markdown",
   "metadata": {},
   "source": [
    "## "
   ]
  },
  {
   "cell_type": "code",
   "execution_count": null,
   "metadata": {},
   "outputs": [],
   "source": [
    "catalog = sxs.load(\"catalog\")\n",
    "dataframe = catalog.table\n",
    "dataframe\n"
   ]
  },
  {
   "cell_type": "code",
   "execution_count": null,
   "metadata": {},
   "outputs": [],
   "source": [
    "waveform = sxs.load(\"SXS:BBH:0123/Lev/rhOverM\", extrapolation_order=2)\n",
    "plt.plot(waveform.t, waveform.data.real)\n"
   ]
  },
  {
   "attachments": {},
   "cell_type": "markdown",
   "metadata": {},
   "source": [
    "## Download and check data"
   ]
  },
  {
   "cell_type": "code",
   "execution_count": null,
   "metadata": {},
   "outputs": [],
   "source": [
    "link = \"https://zenodo.org/record/4734836/files/Lev3/r3Psi2OverM_BondiCce_R0513_CoM.h5?download=1\"\n",
    "link_dict = create_folder_and_save_data(link)\n",
    "link_dict\n"
   ]
  },
  {
   "attachments": {},
   "cell_type": "markdown",
   "metadata": {},
   "source": [
    "### load all the folders with data in a dict"
   ]
  },
  {
   "cell_type": "code",
   "execution_count": null,
   "metadata": {},
   "outputs": [],
   "source": [
    "folder_file_dict = {}\n",
    "for folder in bbh_ext_folder.iterdir():\n",
    "    if not folder.is_dir():\n",
    "        continue\n",
    "    else:\n",
    "        # print(folder)\n",
    "        folder_file_dict[str(folder.stem)] = {}\n",
    "        for lev_folder in folder.iterdir():\n",
    "            print(lev_folder)\n",
    "            folder_file_dict[str(folder.stem)][str(\n",
    "                lev_folder.stem)] = path_dict_in_folder(lev_folder)\n",
    "\n",
    "folder_file_dict\n"
   ]
  },
  {
   "cell_type": "code",
   "execution_count": null,
   "metadata": {},
   "outputs": [],
   "source": [
    "folder_file_dict['bbh_q1_nospin']['Lev3']['rhOverM'].exists()\n"
   ]
  },
  {
   "cell_type": "code",
   "execution_count": null,
   "metadata": {},
   "outputs": [],
   "source": [
    "data_dict = folder_file_dict['bbh_q1_nospin']['Lev3']\n",
    "abd = scri.SpEC.file_io.create_abd_from_h5(h=str(data_dict['rhOverM']),\n",
    "                                           Psi4=str(\n",
    "                                               data_dict['rMPsi4']),\n",
    "                                           Psi3=str(\n",
    "                                               data_dict['r2Psi3']),\n",
    "                                           Psi2=str(\n",
    "                                               data_dict['r3Psi2OverM']),\n",
    "                                           Psi1=str(\n",
    "                                               data_dict['r4Psi1OverM2']),\n",
    "                                           Psi0=str(\n",
    "                                               data_dict['r5Psi0OverM3']),\n",
    "                                           file_format='sxs')\n"
   ]
  },
  {
   "cell_type": "code",
   "execution_count": null,
   "metadata": {},
   "outputs": [],
   "source": [
    "scri.rpxmb.load(str(data_dict['rhOverM']))\n"
   ]
  },
  {
   "cell_type": "code",
   "execution_count": null,
   "metadata": {},
   "outputs": [],
   "source": [
    "sxs.rpdmb.load(str(data_dict['rhOverM']))\n"
   ]
  },
  {
   "cell_type": "code",
   "execution_count": null,
   "metadata": {},
   "outputs": [],
   "source": [
    "abd = scri.SpEC.file_io.create_abd_from_h5(h=str(cce_path/currrent_lev/f'extracted_data/rhOverM_BondiCce_R{currrent_lev[-4:]}.h5'),\n",
    "                                           Psi4=str(\n",
    "                                               cce_path/currrent_lev/f'extracted_data/rMPsi4_BondiCce_R{currrent_lev[-4:]}.h5'),\n",
    "                                           Psi3=str(\n",
    "                                               cce_path/currrent_lev/f'extracted_data/r2Psi3_BondiCce_R{currrent_lev[-4:]}.h5'),\n",
    "                                           Psi2=str(\n",
    "                                               cce_path/currrent_lev/f'extracted_data/r3Psi2OverM_BondiCce_R{currrent_lev[-4:]}.h5'),\n",
    "                                           Psi1=str(\n",
    "                                               cce_path/currrent_lev/f'extracted_data/r4Psi1OverM2_BondiCce_R{currrent_lev[-4:]}.h5'),\n",
    "                                           Psi0=str(\n",
    "                                               cce_path/currrent_lev/f'extracted_data/r5Psi0OverM3_BondiCce_R{currrent_lev[-4:]}.h5'),\n",
    "                                           file_format='SXS')\n"
   ]
  },
  {
   "cell_type": "code",
   "execution_count": null,
   "metadata": {},
   "outputs": [],
   "source": [
    "zonedo_link = \"https://zenodo.org/record/4734836\"\n",
    "Lev = \"Lev3\"\n",
    "Radius = \"0292\"\n",
    "\n",
    "data_list = [\"rhOverM\", \"rMPsi4\", \"r2Psi3\",\n",
    "             \"r3Psi2OverM\", \"r4Psi1OverM2\", \"r5Psi0OverM3\"]\n",
    "download_links = [\n",
    "    f\"{zonedo_link}/files/{Lev}/{data_file}_BondiCce_R{Radius}_CoM.h5\" for data_file in data_list]\n",
    "download_links\n"
   ]
  },
  {
   "cell_type": "code",
   "execution_count": null,
   "metadata": {},
   "outputs": [],
   "source": [
    "link = \"https://zenodo.org/record/4734836/files/Lev3/r3Psi2OverM_BondiCce_R0513_CoM.h5?download=1\"\n",
    "link_dict = get_info_from_file_link(link)\n",
    "link_dict\n"
   ]
  }
 ],
 "metadata": {
  "kernelspec": {
   "display_name": "sxs",
   "language": "python",
   "name": "python3"
  },
  "language_info": {
   "codemirror_mode": {
    "name": "ipython",
    "version": 3
   },
   "file_extension": ".py",
   "mimetype": "text/x-python",
   "name": "python",
   "nbconvert_exporter": "python",
   "pygments_lexer": "ipython3",
   "version": "3.10.10"
  },
  "orig_nbformat": 4
 },
 "nbformat": 4,
 "nbformat_minor": 2
}
