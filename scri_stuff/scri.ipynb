{
 "cells": [
  {
   "cell_type": "code",
   "execution_count": null,
   "metadata": {},
   "outputs": [],
   "source": [
    "import numpy as np\n",
    "import pandas as pd\n",
    "import subprocess\n",
    "import sys\n",
    "from numba import njit\n",
    "import matplotlib.pyplot as plt\n",
    "import matplotlib\n",
    "import os\n",
    "import glob\n",
    "import scri\n",
    "import h5py\n",
    "plt.style.use('seaborn-talk')\n",
    "plt.rcParams[\"figure.figsize\"] = (12,10)\n",
    "import json\n",
    "import time\n",
    "import pickle\n",
    "from pathlib import Path,PosixPath\n",
    "spec_home=\"/home/himanshu/spec/my_spec\"\n",
    "matplotlib.matplotlib_fname()"
   ]
  },
  {
   "cell_type": "code",
   "execution_count": null,
   "metadata": {},
   "outputs": [],
   "source": [
    "{'bbh_q1_nospin': {'Lev3': {'rhOverM': PosixPath('/panfs/ds09/sxs/himanshu/cache/sxs_ext/bbh_q1_nospin/Lev3/rhOverM_BondiCce_R0513_CoM.h5'),\n",
    "   'rMPsi4': PosixPath('/panfs/ds09/sxs/himanshu/cache/sxs_ext/bbh_q1_nospin/Lev3/rMPsi4_BondiCce_R0513_CoM.h5'),\n",
    "   'r2Psi3': PosixPath('/panfs/ds09/sxs/himanshu/cache/sxs_ext/bbh_q1_nospin/Lev3/r2Psi3_BondiCce_R0513_CoM.h5'),\n",
    "   'r3Psi2OverM': PosixPath('/panfs/ds09/sxs/himanshu/cache/sxs_ext/bbh_q1_nospin/Lev3/r3Psi2OverM_BondiCce_R0513_CoM.h5'),\n",
    "   'r4Psi1OverM2': PosixPath('/panfs/ds09/sxs/himanshu/cache/sxs_ext/bbh_q1_nospin/Lev3/r4Psi1OverM2_BondiCce_R0513_CoM.h5'),\n",
    "   'r5Psi0OverM3': PosixPath('/panfs/ds09/sxs/himanshu/cache/sxs_ext/bbh_q1_nospin/Lev3/r5Psi0OverM3_BondiCce_R0513_CoM.h5')}}}"
   ]
  },
  {
   "cell_type": "code",
   "execution_count": null,
   "metadata": {},
   "outputs": [],
   "source": [
    "data_path = Path('/panfs/ds09/sxs/himanshu/cache/sxs_ext/bbh_q1_nospin/Lev3/rhOverM_BondiCce_R0513_CoM.h5')\n",
    "# data_path = Path('/panfs/ds09/sxs/himanshu/gauge_stuff/gauge_driver_runs/runs/72_ngd_master_mr1_200_400_no_roll_on_pow2/cce/Lev3_R0300/extracted_data/r2Psi3_BondiCce_R0300.h5')"
   ]
  },
  {
   "cell_type": "code",
   "execution_count": null,
   "metadata": {},
   "outputs": [],
   "source": []
  },
  {
   "cell_type": "code",
   "execution_count": null,
   "metadata": {},
   "outputs": [],
   "source": [
    "with h5py.File(data_path,'r') as hf:\n",
    "    hf.visit(print)\n",
    "    data = hf[\"Y_l0_m0.dat\"][:]\n",
    "    # print(list(data.shape))"
   ]
  },
  {
   "cell_type": "code",
   "execution_count": null,
   "metadata": {},
   "outputs": [],
   "source": [
    "sum = 1\n",
    "col_list = ['time']\n",
    "for l in range(10):\n",
    "    for m in np.arange(-l, l + 1):\n",
    "        col_list.append(f\"R,{l},{m}\")\n",
    "        col_list.append(f\"I,{l},{m}\")\n",
    "        sum += 2\n",
    "    # print(l+1,sum)\n",
    "\n",
    "pddata = pd.DataFrame(data)\n",
    "pddata.columns = col_list[:data.shape[1]]"
   ]
  },
  {
   "cell_type": "code",
   "execution_count": null,
   "metadata": {},
   "outputs": [],
   "source": [
    "pddata.plot(x=\"time\",y='R,4,0')"
   ]
  },
  {
   "cell_type": "code",
   "execution_count": null,
   "metadata": {},
   "outputs": [],
   "source": [
    "abd = scri.SpEC.file_io.create_abd_from_h5(h=f'/panfs/ds09/sxs/himanshu/gauge_stuff/gauge_driver_runs/runs/del/test_cce_script_mr1_ns/bondi_cce/rhOverM_BondiCce_R0112.h5',\n",
    "                                          Psi4=f'/panfs/ds09/sxs/himanshu/gauge_stuff/gauge_driver_runs/runs/del/test_cce_script_mr1_ns/bondi_cce/rMPsi4_BondiCce_R0112.h5',\n",
    "                                          Psi3=f'/panfs/ds09/sxs/himanshu/gauge_stuff/gauge_driver_runs/runs/del/test_cce_script_mr1_ns/bondi_cce/r2Psi3_BondiCce_R0112.h5',\n",
    "                                          Psi2=f'/panfs/ds09/sxs/himanshu/gauge_stuff/gauge_driver_runs/runs/del/test_cce_script_mr1_ns/bondi_cce/r3Psi2OverM_BondiCce_R0112.h5',\n",
    "                                          Psi1=f'/panfs/ds09/sxs/himanshu/gauge_stuff/gauge_driver_runs/runs/del/test_cce_script_mr1_ns/bondi_cce/r4Psi1OverM2_BondiCce_R0112.h5',\n",
    "                                          Psi0=f'/panfs/ds09/sxs/himanshu/gauge_stuff/gauge_driver_runs/runs/del/test_cce_script_mr1_ns/bondi_cce/r5Psi0OverM3_BondiCce_R0112.h5',\n",
    "                                          file_format='SXS')\n",
    "\n",
    "# violations = abd.bondi_violation_norms\n"
   ]
  },
  {
   "cell_type": "code",
   "execution_count": null,
   "metadata": {},
   "outputs": [],
   "source": [
    "abd.bondi_violation_norms"
   ]
  },
  {
   "cell_type": "code",
   "execution_count": null,
   "metadata": {},
   "outputs": [],
   "source": [
    "bondi_norms = abd.bondi_violation_norms"
   ]
  },
  {
   "cell_type": "code",
   "execution_count": null,
   "metadata": {},
   "outputs": [],
   "source": [
    "plt.plot(bondi_norms[1])"
   ]
  },
  {
   "cell_type": "code",
   "execution_count": null,
   "metadata": {},
   "outputs": [],
   "source": [
    "test_path = Path(\"/panfs/ds09/sxs/kmitman/Annexes/SimAnnex/Public/CSUF14/BBH_CFMS_d30_q1_sA_0_0_-0.438_sB_0_0_-0.438/Lev2\")"
   ]
  },
  {
   "cell_type": "code",
   "execution_count": null,
   "metadata": {},
   "outputs": [],
   "source": [
    "path_list = list(test_path.glob(\"*.h5\"))\n",
    "path_list"
   ]
  },
  {
   "attachments": {},
   "cell_type": "markdown",
   "metadata": {},
   "source": [
    "## load bondi pickel and data"
   ]
  },
  {
   "cell_type": "code",
   "execution_count": null,
   "metadata": {},
   "outputs": [],
   "source": [
    "cce_path = Path(\"/panfs/ds09/sxs/himanshu/gauge_stuff/gauge_driver_runs/runs/71_ngd_master_mr1_200_400_no_roll_on/cce\")"
   ]
  },
  {
   "cell_type": "code",
   "execution_count": null,
   "metadata": {},
   "outputs": [],
   "source": [
    "Levs = [i.stem for i in list(cce_path.glob(\"Lev*\"))]\n",
    "currrent_lev = Levs[0]\n",
    "print(currrent_lev, Levs)\n",
    "bianchi_vio_path = list((cce_path/currrent_lev).glob(\"bondi*\"))[0]\n",
    "bianchi_vio_path"
   ]
  },
  {
   "cell_type": "code",
   "execution_count": null,
   "metadata": {},
   "outputs": [],
   "source": [
    "abd = scri.SpEC.file_io.create_abd_from_h5(h=str(cce_path/currrent_lev/f'extracted_data/rhOverM_BondiCce_R{currrent_lev[-4:]}.h5'),\n",
    "                                          Psi4=str(cce_path/currrent_lev/f'extracted_data/rMPsi4_BondiCce_R{currrent_lev[-4:]}.h5'),\n",
    "                                          Psi3=str(cce_path/currrent_lev/f'extracted_data/r2Psi3_BondiCce_R{currrent_lev[-4:]}.h5'),\n",
    "                                          Psi2=str(cce_path/currrent_lev/f'extracted_data/r3Psi2OverM_BondiCce_R{currrent_lev[-4:]}.h5'),\n",
    "                                          Psi1=str(cce_path/currrent_lev/f'extracted_data/r4Psi1OverM2_BondiCce_R{currrent_lev[-4:]}.h5'),\n",
    "                                          Psi0=str(cce_path/currrent_lev/f'extracted_data/r5Psi0OverM3_BondiCce_R{currrent_lev[-4:]}.h5'),\n",
    "                                          file_format='SXS')\n",
    "\n",
    "with open(bianchi_vio_path,'rb') as f:\n",
    "    bondi_norms = pickle.load(f)"
   ]
  },
  {
   "cell_type": "code",
   "execution_count": null,
   "metadata": {},
   "outputs": [],
   "source": [
    "bondi_violations = abd.bondi_violations"
   ]
  },
  {
   "cell_type": "code",
   "execution_count": null,
   "metadata": {},
   "outputs": [],
   "source": [
    "l, m = 2, 0\n",
    "start = 18000\n",
    "# plt.plot(abd.t,abd.psi4[:, abd.psi4.index(l,m)])\n",
    "plt.plot(abd.t[start:],bondi_violations[0][start:, abd.psi4.index(l,m)])"
   ]
  },
  {
   "cell_type": "code",
   "execution_count": null,
   "metadata": {},
   "outputs": [],
   "source": [
    "plt.semilogy(bondi_norms['t'],bondi_norms['0'],label='0')\n",
    "plt.semilogy(bondi_norms['t'],bondi_norms['1'],label='1')\n",
    "plt.semilogy(bondi_norms['t'],bondi_norms['2'],label='2')\n",
    "plt.semilogy(bondi_norms['t'],bondi_norms['3'],label='2')\n",
    "plt.semilogy(bondi_norms['t'],bondi_norms['4'],label='2')\n",
    "plt.semilogy(bondi_norms['t'],bondi_norms['2'],label='2')\n",
    "plt.legend()\n",
    "plt.xlabel(\"t\")\n",
    "plt.ylabel(\"Violation norms\")"
   ]
  },
  {
   "cell_type": "code",
   "execution_count": null,
   "metadata": {},
   "outputs": [],
   "source": [
    "abd.psi4.index(l,m)"
   ]
  }
 ],
 "metadata": {
  "kernelspec": {
   "display_name": "sxs",
   "language": "python",
   "name": "python3"
  },
  "language_info": {
   "codemirror_mode": {
    "name": "ipython",
    "version": 3
   },
   "file_extension": ".py",
   "mimetype": "text/x-python",
   "name": "python",
   "nbconvert_exporter": "python",
   "pygments_lexer": "ipython3",
   "version": "3.10.10"
  },
  "orig_nbformat": 4
 },
 "nbformat": 4,
 "nbformat_minor": 2
}
